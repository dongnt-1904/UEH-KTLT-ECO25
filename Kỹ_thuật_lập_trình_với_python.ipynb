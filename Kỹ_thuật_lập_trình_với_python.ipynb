{
  "nbformat": 4,
  "nbformat_minor": 0,
  "metadata": {
    "colab": {
      "provenance": [],
      "authorship_tag": "ABX9TyOkOwOcqRSaR31xwoKkjscP",
      "include_colab_link": true
    },
    "kernelspec": {
      "name": "python3",
      "display_name": "Python 3"
    },
    "language_info": {
      "name": "python"
    }
  },
  "cells": [
    {
      "cell_type": "markdown",
      "metadata": {
        "id": "view-in-github",
        "colab_type": "text"
      },
      "source": [
        "<a href=\"https://colab.research.google.com/github/dongnt-1904/UEH-KTLT-ECO25/blob/buoi2_16082025/K%E1%BB%B9_thu%E1%BA%ADt_l%E1%BA%ADp_tr%C3%ACnh_v%E1%BB%9Bi_python.ipynb\" target=\"_parent\"><img src=\"https://colab.research.google.com/assets/colab-badge.svg\" alt=\"Open In Colab\"/></a>"
      ]
    },
    {
      "cell_type": "code",
      "execution_count": null,
      "metadata": {
        "id": "blS6102sUuFY"
      },
      "outputs": [],
      "source": [
        " # Python data types\n",
        "x = \"Hello World\" #str\n",
        "x = 2 #int\n",
        "x = 2.5 #float\n",
        "x = 7j #complex"
      ]
    },
    {
      "cell_type": "code",
      "source": [
        "#Kiểu dữ liệu tập hợp\n",
        "x = [\"apple\", \"banana\", \"cherry\"] #list có thứ tự, can change\n",
        "x = (\"apple\", \"banana\", \"cherry\") #tuple  có thứ tự can't change\n",
        "x = range(6) #range\n",
        "x = {\"name\" : \"Tom\", \"age\" : 20} #dict khóa giá trị theo cặp; ko thứ tự; can change\n",
        "x = {\"apple\", \"banana\", \"cherry\"} #set ko thứ tự, ko trùng lăp; can change\n",
        "x = frozenset({\"apple\", \"banana\", \"cherry\"}) #frozenset() KHÓA 1 cái setd\n"
      ],
      "metadata": {
        "id": "b6vUDdajW-fw"
      },
      "execution_count": null,
      "outputs": []
    },
    {
      "cell_type": "code",
      "source": [
        "x = True #bool kiểu logic có true/false\n",
        "x = b\"Hello\" #bytes lưu chuỗi dữ liệu kiểu nhị phân 0-225; can't change\n",
        "x = bytearray(5) #bytearray như byte nhưng can change\n",
        "x = memoryview(bytes(5)) #memoryview\n",
        "x = None #NoneType dùng để khởi tạo biến, đánh dấu một hàm không trả về giá trị, hoặc để kiểm tra sự tồn tại của một giá tr"
      ],
      "metadata": {
        "id": "CqzVMxHYYMMt"
      },
      "execution_count": null,
      "outputs": []
    },
    {
      "cell_type": "code",
      "source": [
        "#Chuyển type của dữ liệu \"Python casting\"\n",
        "x = str(3) # x will be '3'\n",
        "y = int(3) # y will be 3\n",
        "z = float(3) # z will be 3.0\n",
        "print(x, type(x))\n",
        "print(y, type(y))\n",
        "print(z, type(z))"
      ],
      "metadata": {
        "colab": {
          "base_uri": "https://localhost:8080/"
        },
        "id": "-myDaSdpZIb5",
        "outputId": "d05ffe0b-570b-4992-ef3a-ffb95dd7bb52"
      },
      "execution_count": null,
      "outputs": [
        {
          "output_type": "stream",
          "name": "stdout",
          "text": [
            "3 <class 'str'>\n",
            "3 <class 'int'>\n",
            "3.0 <class 'float'>\n"
          ]
        }
      ]
    },
    {
      "cell_type": "code",
      "source": [
        "#Python Arithmetic Operators\n",
        "# + Addition 7 + 2 = 9\n",
        "# -Subtraction 7 -2 = 5\n",
        "# * Multiplication 7 * 2 = 14\n",
        "# / Division 7 / 2 = 3.5\n",
        "# // Floor division 7 // 2 = 3  (Quotient) chia lấy nguyên\n",
        "# % Modulus 7 % 2 = 1          (Remainder) chia lấy dư\n",
        "# ** Exponentiation 7 ** 2 = 49  lũy thừa\n"
      ],
      "metadata": {
        "id": "Rw_jxa8hZJXs"
      },
      "execution_count": null,
      "outputs": []
    },
    {
      "cell_type": "code",
      "source": [
        "#Python Basic Operators (toán tử cơ bản)\n",
        "print('7 + 2 =', 7+ 2)\n",
        "print('7 -2 =', 7-2)\n",
        "print('7 * 2 =', 7* 2)\n",
        "print('7 / 2 =', 7/ 2)\n",
        "print('7 // 2 =', 7// 2)\n",
        "print('7 % 2 =', 7% 2)\n",
        "print('7 ** 2 =', 7** 2)"
      ],
      "metadata": {
        "colab": {
          "base_uri": "https://localhost:8080/"
        },
        "id": "rT-Jie9SZ39g",
        "outputId": "eaacdb3b-21fc-432c-b837-5e655c5069f0"
      },
      "execution_count": null,
      "outputs": [
        {
          "output_type": "stream",
          "name": "stdout",
          "text": [
            "7 + 2 = 9\n",
            "7 -2 = 5\n",
            "7 * 2 = 14\n",
            "7 / 2 = 3.5\n",
            "7 // 2 = 3\n",
            "7 % 2 = 1\n",
            "7 ** 2 = 49\n"
          ]
        }
      ]
    },
    {
      "cell_type": "code",
      "source": [
        "# Python Booleans: True or False\n",
        "print(3 > 2)\n",
        "print(3 == 2)\n",
        "print(3 < 2)"
      ],
      "metadata": {
        "colab": {
          "base_uri": "https://localhost:8080/"
        },
        "id": "6tSVWEjDaiEF",
        "outputId": "8665ad69-901e-4422-de9f-afd2abe7fab3"
      },
      "execution_count": null,
      "outputs": [
        {
          "output_type": "stream",
          "name": "stdout",
          "text": [
            "True\n",
            "False\n",
            "False\n"
          ]
        }
      ]
    },
    {
      "cell_type": "code",
      "source": [
        "# BMI Calculator in Python\n",
        "height_cm= 158\n",
        "weight_kg= 57\n",
        "height_m= height_cm/100\n",
        "BMI = (weight_kg/(height_m**2))\n",
        "print(\"Your BMI is: \" + str(round(BMI,1)))  # round để giớ hạn số thập phân"
      ],
      "metadata": {
        "colab": {
          "base_uri": "https://localhost:8080/"
        },
        "id": "7EuKup2tar2q",
        "outputId": "930aa8e2-b9d5-441f-9d1d-cf9c0d6179e2"
      },
      "execution_count": null,
      "outputs": [
        {
          "output_type": "stream",
          "name": "stdout",
          "text": [
            "Your BMI is: 22.8\n"
          ]
        }
      ]
    },
    {
      "cell_type": "code",
      "source": [
        "# Future Value\n",
        "pv= 100\n",
        "r = 0.1\n",
        "n = 7\n",
        "fv= pv* ((1+ (r)) ** n)\n",
        "print(round(fv, 2))"
      ],
      "metadata": {
        "colab": {
          "base_uri": "https://localhost:8080/"
        },
        "id": "EFBPlXH_bBXl",
        "outputId": "e87c662e-2f07-45a9-f8d2-935f9673c045"
      },
      "execution_count": null,
      "outputs": [
        {
          "output_type": "stream",
          "name": "stdout",
          "text": [
            "194.87\n"
          ]
        }
      ]
    },
    {
      "cell_type": "code",
      "source": [
        "# Future Value\n",
        "amount = 100\n",
        "interest = 10 #10% = 0.01 * 10\n",
        "years = 7\n",
        "future_value = amount * ((1 + (0.01 * interest)) ** years)\n",
        "print(round(future_value, 2))"
      ],
      "metadata": {
        "colab": {
          "base_uri": "https://localhost:8080/"
        },
        "id": "4_Xf_NzwbIVI",
        "outputId": "d323d82a-1f32-4154-acf9-e376c12fef4c"
      },
      "execution_count": null,
      "outputs": [
        {
          "output_type": "stream",
          "name": "stdout",
          "text": [
            "194.87\n"
          ]
        }
      ]
    },
    {
      "cell_type": "markdown",
      "source": [
        "**Python data Structures**"
      ],
      "metadata": {
        "id": "eLSX7EHKb3At"
      }
    },
    {
      "cell_type": "code",
      "source": [
        "# LIST []\n",
        "x = [60, 70, 80, 90]\n",
        "print(len(x))\n",
        "print(x[0])\n",
        "print(x[1])   # In giá trị cụ thể trong list\n",
        "print(x[-1])"
      ],
      "metadata": {
        "colab": {
          "base_uri": "https://localhost:8080/"
        },
        "id": "-729Cez4cTFp",
        "outputId": "de3f012e-1202-4d54-947e-6b1bde2a2451"
      },
      "execution_count": null,
      "outputs": [
        {
          "output_type": "stream",
          "name": "stdout",
          "text": [
            "4\n",
            "60\n",
            "70\n",
            "90\n"
          ]
        }
      ]
    },
    {
      "cell_type": "code",
      "source": [
        "#Các hàm thường dùng trong list\n",
        "x.append(4)  # phương thức và ns biết đang thao tác vớ đối tượng x\n",
        "x.clear()\n",
        "append() #Adds an element at the end of the list\n",
        "clear() #Removes all the elements from the list\n",
        "copy() #Returns a copy of the list #Trả về một bản sao chép nông (shallow copy) của danh sách. Bản sao này là một danh sách mới, độc lập với danh sách ban đầu.\n",
        "# ex:\n",
        "my_list = [1, 2, 3]\n",
        "new_list = my_list.copy()\n",
        "new_list.append(4)\n",
        "# my_list vẫn là [1, 2, 3], new_list là [1, 2, 3, 4]\n",
        "count() #Đếm và trả về số lần xuất hiện của một phần tử cụ thể trong danh sách.\n",
        "extend() #Add the elements of a list (or any iterable), to the end of the\n",
        "current list\n",
        "index() #Returns the index of the first element with the specified value\n",
        "insert([vị tri], [value]) #Adds an element at the specified position\n",
        "pop() #Removes the element at the specified position\n",
        "remove() #Removes the item with the specified value\n",
        "reverse() #Đảo ngược thứ tự của các phần tử trong danh sách tại chỗ (in-place). Phương thức này không trả về danh sách mới.\n",
        "sort() Sorts the list\n",
        "\n",
        "print(x)"
      ],
      "metadata": {
        "colab": {
          "base_uri": "https://localhost:8080/"
        },
        "id": "THrBoZ8kc7bv",
        "outputId": "b9f71303-1774-4366-e057-314ee370f163"
      },
      "execution_count": null,
      "outputs": [
        {
          "output_type": "stream",
          "name": "stdout",
          "text": [
            "[]\n"
          ]
        }
      ]
    },
    {
      "cell_type": "code",
      "source": [
        "# TUPLES ()\n",
        "x = (10, 20, 30, 40, 50)\n",
        "print(x[0])\n",
        "print(x[1])\n",
        "print(x[2])\n",
        "print(x[-1])"
      ],
      "metadata": {
        "id": "84Vl7IB1frLN"
      },
      "execution_count": null,
      "outputs": []
    },
    {
      "cell_type": "code",
      "source": [
        "# SET {} 1 tập hợp, ko trùng lặp, can change\n",
        "animals = {'cat', 'dog'}\n",
        "print('cat'in animals)  # in kiểm tra sự tồn tại của phần tử\n",
        "print('fish' in animals)\n",
        "animals.add('fish')\n",
        "print('fish'in animals)\n",
        "print(len(animals))\n",
        "animals.add('cat') # add thêm phần tử cho set\n",
        "print(len(animals))\n",
        "animals.remove('cat')  #remove xóa phần tử\n",
        "print(len(animals))"
      ],
      "metadata": {
        "colab": {
          "base_uri": "https://localhost:8080/"
        },
        "id": "icxzsp-2gv2V",
        "outputId": "d3ad1b21-a30e-449e-f525-074bb06003d6"
      },
      "execution_count": null,
      "outputs": [
        {
          "output_type": "stream",
          "name": "stdout",
          "text": [
            "True\n",
            "False\n",
            "True\n",
            "3\n",
            "3\n",
            "2\n"
          ]
        }
      ]
    },
    {
      "cell_type": "code",
      "source": [
        "#DICTIONARY { KEY : VALUE}\n",
        "k = { 'EN':'English', 'FR':'French'}\n",
        "print(k['EN'])"
      ],
      "metadata": {
        "colab": {
          "base_uri": "https://localhost:8080/"
        },
        "id": "15xAzkpAg3MH",
        "outputId": "c772f24f-ceda-4216-c729-aa317871e544"
      },
      "execution_count": null,
      "outputs": [
        {
          "output_type": "stream",
          "name": "stdout",
          "text": [
            "English\n"
          ]
        }
      ]
    },
    {
      "cell_type": "markdown",
      "source": [
        "**PHYTHON FOR FINANCE APPLICATIONS**"
      ],
      "metadata": {
        "id": "NDN3AClaiZUQ"
      }
    },
    {
      "cell_type": "code",
      "source": [
        " # Python Tuples\n",
        "accounts = ((\"Cash\", 1001), (\"Accounts Receivable\", 1002),  (\"Inventory\", 1003)) # tạp 3 tuple con trong một tuple\n",
        "for account in accounts:\n",
        "  print(\"Account name:\", account[0], \"Account number:\", account[1])   # for <biến_lặp> in <đối_tượng_có_thể_lặp_lại>:\n",
        "    # Khối lệnh sẽ được thực thi"
      ],
      "metadata": {
        "id": "CWarPFLCiiFS",
        "colab": {
          "base_uri": "https://localhost:8080/"
        },
        "outputId": "b8d0752f-3ace-4a3f-8801-ba3819a1868a"
      },
      "execution_count": null,
      "outputs": [
        {
          "output_type": "stream",
          "name": "stdout",
          "text": [
            "Account name: Cash Account number: 1001\n",
            "Account name: Accounts Receivable Account number: 1002\n",
            "Account name: Inventory Account number: 1003\n"
          ]
        }
      ]
    },
    {
      "cell_type": "code",
      "source": [
        "# Python Sets\n",
        "account_numbers = {1001, 1002, 1003}\n",
        "new_account_number = 1005\n",
        "if new_account_number not in account_numbers:\n",
        " print(\"Account number\", new_account_number, \"is not in use.\")"
      ],
      "metadata": {
        "colab": {
          "base_uri": "https://localhost:8080/"
        },
        "id": "_6J47GrBmNQ1",
        "outputId": "88163918-a306-4e04-f1de-962fc0aff71c"
      },
      "execution_count": 4,
      "outputs": [
        {
          "output_type": "stream",
          "name": "stdout",
          "text": [
            "Account number 1005 is not in use.\n"
          ]
        }
      ]
    },
    {
      "cell_type": "code",
      "source": [
        "# Python Dictionaries\n",
        "accounts = {\"1001\": {\"name\": \"Cash\", \"balance\": 500.00, \"type\": \"Asset\"},\n",
        "\"1002\": {\"name\": \"Accounts Receivable\", \"balance\": 1000.00, \"type\": \"Asset\"},\n",
        "\"2001\": {\"name\": \"Accounts Payable\", \"balance\": 750.00, \"type\": \"Liability\"}}\n",
        "for account_number, account_info in accounts.items():\n",
        "  print(\"Account number:\", account_number)\n",
        "  print(\"Account name:\", account_info[\"name\"])\n",
        "  print(\"Account balance:\", account_info[\"balance\"])\n",
        "  print(\"Account type:\", account_info[\"type\"]) # .items  là một phương thức của dictionary trả về một đối tượng có thể lặp lại (iterable) chứa các cặp khóa-giá trị của dictionary. Mỗi cặp này được trả về dưới dạng một tuple"
      ],
      "metadata": {
        "colab": {
          "base_uri": "https://localhost:8080/"
        },
        "id": "J9iMNhJsAzEo",
        "outputId": "922a7eb4-1fa8-445b-e5b9-13be9977adcf"
      },
      "execution_count": 10,
      "outputs": [
        {
          "output_type": "stream",
          "name": "stdout",
          "text": [
            "Account number: 1001\n",
            "Account name: Cash\n",
            "Account balance: 500.0\n",
            "Account type: Asset\n",
            "Account number: 1002\n",
            "Account name: Accounts Receivable\n",
            "Account balance: 1000.0\n",
            "Account type: Asset\n",
            "Account number: 2001\n",
            "Account name: Accounts Payable\n",
            "Account balance: 750.0\n",
            "Account type: Liability\n"
          ]
        }
      ]
    },
    {
      "cell_type": "markdown",
      "source": [
        "PYTHON CONTROL LOGIC AND LOOPS"
      ],
      "metadata": {
        "id": "9CU04nmREEwc"
      }
    },
    {
      "cell_type": "code",
      "source": [
        "#Python if...else\n",
        "logical conditions from mathematics:\n",
        " • Equals: a == b\n",
        " • Not Equals: a != b\n",
        " • Less than: a < b\n",
        " • Less than or equal to: a <= b\n",
        " • Greater than: a > b\n",
        " • Greater than or equal to: a >= b\n",
        " • and # rueturn TRUE nếu 2 điều kiện đều đúng\n",
        " • or  # return TRUE nếu 1 trong hai điều kiện đúng\n",
        " • not # not(x<5 and x<10) # trả về FALSE nếu điều kiện trong ngoặc đúng"
      ],
      "metadata": {
        "id": "mmilhsvjD7Wx"
      },
      "execution_count": null,
      "outputs": []
    },
    {
      "cell_type": "code",
      "source": [
        "#python if\n",
        "score = 80\n",
        "if score >= 60 :\n",
        " print(\"Pass\")\n",
        "# Python if else\n",
        "score1 = 40\n",
        "if score1 >= 60 :\n",
        "  print(\"pass\")\n",
        "else:\n",
        "  print(\"Fail\")"
      ],
      "metadata": {
        "colab": {
          "base_uri": "https://localhost:8080/"
        },
        "id": "Rh5Z0XbIFdle",
        "outputId": "14a722ac-f5ba-470e-8d8a-44036a677b3d"
      },
      "execution_count": 16,
      "outputs": [
        {
          "output_type": "stream",
          "name": "stdout",
          "text": [
            "Pass\n",
            "Fail\n"
          ]
        }
      ]
    },
    {
      "cell_type": "code",
      "source": [
        "#Python if elif else\n",
        "score = 89\n",
        "if score >= 90 :\n",
        "  print(\"A\")\n",
        "elif score >= 60 :\n",
        "  print(\"Pass\")\n",
        "else :\n",
        "  print(\"Fail\")"
      ],
      "metadata": {
        "colab": {
          "base_uri": "https://localhost:8080/"
        },
        "id": "5ws9bcZIGFaL",
        "outputId": "3edcfdf8-4d5b-4490-b8f6-862853080c87"
      },
      "execution_count": 21,
      "outputs": [
        {
          "output_type": "stream",
          "name": "stdout",
          "text": [
            "Pass\n"
          ]
        }
      ]
    },
    {
      "cell_type": "code",
      "source": [
        "# Python if elif else\n",
        "score = 90\n",
        "grade = \"\"\n",
        "if score >=90:\n",
        " grade = \"A\"\n",
        "elif score >= 80:\n",
        " grade = \"B\"\n",
        "elif score >= 70:\n",
        " grade = \"C\"\n",
        "elif score >= 60:\n",
        " grade = \"D\"\n",
        "else:\n",
        " grade = \"E\"\n",
        "print(grade)\n"
      ],
      "metadata": {
        "colab": {
          "base_uri": "https://localhost:8080/"
        },
        "id": "Y9k2uw5WHLOR",
        "outputId": "5482e680-fa45-42eb-8bb8-f2a29c654ab5"
      },
      "execution_count": 23,
      "outputs": [
        {
          "output_type": "stream",
          "name": "stdout",
          "text": [
            "A\n"
          ]
        }
      ]
    },
    {
      "cell_type": "code",
      "source": [
        "# Python for Loops\n",
        "# for loops\n",
        "for i in range(1,10):\n",
        "  for j in range(1,10):\n",
        "    print(i, ' * ' , j , ' = ', i*j)\n"
      ],
      "metadata": {
        "id": "L-bsAvTbHkah"
      },
      "execution_count": null,
      "outputs": []
    },
    {
      "cell_type": "code",
      "source": [
        " # while loops\n",
        "age = 10  # khởi tạo biến đầu, lặp vs 1 điều kiện , in ra kết quả và cập nhật biến sau mỗi lần lặp\n",
        "while age < 20:\n",
        "  print(age)\n",
        "  age = age + 1\n"
      ],
      "metadata": {
        "colab": {
          "base_uri": "https://localhost:8080/"
        },
        "id": "xdd3OBgDKCT0",
        "outputId": "fda4dc86-f42a-48ce-b04e-56eede47a370"
      },
      "execution_count": 29,
      "outputs": [
        {
          "output_type": "stream",
          "name": "stdout",
          "text": [
            "10\n",
            "11\n",
            "12\n",
            "13\n",
            "14\n",
            "15\n",
            "16\n",
            "17\n",
            "18\n",
            "19\n"
          ]
        }
      ]
    },
    {
      "cell_type": "code",
      "source": [
        " # Python Function def\n",
        " # indentation for blocks. four spaces\n",
        "def getfv(pv, r, n):            # khai báo các parameters cần thiết cho hàm mình muốn tạo\n",
        "  fv = pv * ((1+ (r)) ** n)     # Cách hàm sẽ hoạt động\n",
        "  return fv                     # giá trị sẽ được trả về sau khi hàm kết thúc\n",
        "fv= getfv(100, 0.1, 7)\n",
        "print(round(fv, 2))"
      ],
      "metadata": {
        "colab": {
          "base_uri": "https://localhost:8080/"
        },
        "id": "yuNdfMaXLUqC",
        "outputId": "ed82aaba-8705-42dc-9690-50512937deb4"
      },
      "execution_count": 30,
      "outputs": [
        {
          "output_type": "stream",
          "name": "stdout",
          "text": [
            "194.87\n"
          ]
        }
      ]
    },
    {
      "cell_type": "markdown",
      "source": [
        "**Python Classes/Objects**"
      ],
      "metadata": {
        "id": "IiSRaRr3V7Bz"
      }
    },
    {
      "cell_type": "code",
      "source": [
        "# Python class\n",
        "class MyClass:\n",
        "  x = 5\n",
        "c1 = MyClass()\n",
        "print(c1.x)"
      ],
      "metadata": {
        "colab": {
          "base_uri": "https://localhost:8080/"
        },
        "id": "0mYKo3YfWAH6",
        "outputId": "19673fc7-603c-4c84-cc7f-a240cf6e3bcb"
      },
      "execution_count": 31,
      "outputs": [
        {
          "output_type": "stream",
          "name": "stdout",
          "text": [
            "5\n"
          ]
        }
      ]
    },
    {
      "cell_type": "code",
      "source": [
        "class Person:\n",
        "  def __init__(self, name , age , sex ):\n",
        "    self.name  = name\n",
        "    self.age= age\n",
        "    self.sex = sex\n",
        "p1 = Person(\"Alan\", 20 , \"Male\")\n",
        "print(p1.name)\n",
        "print(p1.age)\n",
        "print(p1.sex)\n",
        "class Room:\n",
        "  def __init__(self)"
      ],
      "metadata": {
        "colab": {
          "base_uri": "https://localhost:8080/"
        },
        "id": "8eKmxnAAWOlX",
        "outputId": "a542c4b2-cd95-4323-9224-2d4cf0b287f0"
      },
      "execution_count": 47,
      "outputs": [
        {
          "output_type": "stream",
          "name": "stdout",
          "text": [
            "Alan\n",
            "20\n",
            "Male\n"
          ]
        }
      ]
    },
    {
      "cell_type": "code",
      "source": [
        "class Person:   #tự tạo thêm hàm trong class\n",
        " def __init__(self, name, age):\n",
        "  self.name = name\n",
        "  self.age = age\n",
        " def myfunc(self):\n",
        "  print(\"Hello my name is \" + self.name)\n",
        " def myfunc1(self):\n",
        "  print(\"I am \" + str(self.age))\n",
        "p1 = Person(\"Alan\", 20)\n",
        "p1.myfunc()\n",
        "p1.myfunc1()\n"
      ],
      "metadata": {
        "colab": {
          "base_uri": "https://localhost:8080/"
        },
        "id": "Crt3d6qEZ7xP",
        "outputId": "1929337e-8269-4131-8258-2330dffeadb6"
      },
      "execution_count": 59,
      "outputs": [
        {
          "output_type": "stream",
          "name": "stdout",
          "text": [
            "Hello my name is Alan\n",
            "I am 20\n"
          ]
        }
      ]
    },
    {
      "cell_type": "code",
      "source": [
        "class Vehicle:\n",
        "  name = \"\"\n",
        "  kind = \"car\"\n",
        "  color = \"\"\n",
        "  value = 100.00\n",
        "  def description(self):\n",
        "    desc_str = \" %s is a %s %s worth $%.2f.\" %(self.name, self.color, self.kind, self.value)\n",
        "    return desc_str"
      ],
      "metadata": {
        "id": "aR0kZzZQg5WT"
      },
      "execution_count": 69,
      "outputs": []
    },
    {
      "cell_type": "code",
      "source": [
        "car1 = Vehicle()\n",
        "car1.name = \"Fer\"\n",
        "car1.color = \"red\"\n",
        "car1.kind = \"convertible\"\n",
        "car1.value = 60000.00\n",
        "car2 = Vehicle()\n",
        "car2.name = \"Jump\"\n",
        "car2.color = \"blue\"\n",
        "car2.kind = \"van\"\n",
        "car2.value = 10000.00\n",
        "print(car1.description())\n",
        "print(car1.name)\n",
        "print(car2.description())\n",
        "print(car2.name)"
      ],
      "metadata": {
        "colab": {
          "base_uri": "https://localhost:8080/"
        },
        "id": "rjPGBEswjImW",
        "outputId": "d4f4774a-2d5f-499f-b4c6-a2f25d202e27"
      },
      "execution_count": 70,
      "outputs": [
        {
          "output_type": "stream",
          "name": "stdout",
          "text": [
            " Fer is a red convertible worth $60000.00.\n",
            "Fer\n",
            " Jump is a blue van worth $10000.00.\n",
            "Jump\n"
          ]
        }
      ]
    },
    {
      "cell_type": "markdown",
      "source": [
        "# **PYTHON** **MODULES**"
      ],
      "metadata": {
        "id": "KnrZLAiYkv9K"
      }
    },
    {
      "cell_type": "code",
      "source": [
        "# mymodule.py\n",
        "def greeting(name):\n",
        " print(\"Hello, \"+ name)"
      ],
      "metadata": {
        "id": "dcXZ7rnbk0ja"
      },
      "execution_count": 3,
      "outputs": []
    },
    {
      "cell_type": "code",
      "source": [
        "\n",
        "greeting(\"Alan\")"
      ],
      "metadata": {
        "colab": {
          "base_uri": "https://localhost:8080/"
        },
        "id": "6U_gjTFklMm6",
        "outputId": "c1512fc5-7c99-4295-9d4a-239b6831985b"
      },
      "execution_count": 4,
      "outputs": [
        {
          "output_type": "stream",
          "name": "stdout",
          "text": [
            "Hello, Alan\n"
          ]
        }
      ]
    },
    {
      "cell_type": "code",
      "source": [
        "#Python main() function\n",
        "def main():\n",
        "  print(\"Hello World!\")\n",
        "if __name__ == \"__main__\":\n",
        "  main()\n"
      ],
      "metadata": {
        "colab": {
          "base_uri": "https://localhost:8080/"
        },
        "id": "4t3vpS-Ndikv",
        "outputId": "dd3476c5-7d54-4da0-fc98-5bf5669dfebb"
      },
      "execution_count": 5,
      "outputs": [
        {
          "output_type": "stream",
          "name": "stdout",
          "text": [
            "Hello World!\n"
          ]
        }
      ]
    },
    {
      "cell_type": "markdown",
      "source": [
        "# **Files and Exceoption Handing**"
      ],
      "metadata": {
        "id": "ySeg5AqBezd1"
      }
    },
    {
      "cell_type": "code",
      "source": [
        "f = open(\"myfile.txt\", \"w\")\n",
        "f.write(\"Study python\")\n",
        "f.close()\n",
        "f = open(\"myfile.txt\", \"r\")\n",
        "text = f.read()\n",
        "print(text)\n",
        "f.close()"
      ],
      "metadata": {
        "colab": {
          "base_uri": "https://localhost:8080/"
        },
        "id": "27GxfDi2eHb_",
        "outputId": "bcc8e9ae-806f-4db8-c53b-04b137a62f23"
      },
      "execution_count": 7,
      "outputs": [
        {
          "output_type": "stream",
          "name": "stdout",
          "text": [
            "Study python\n"
          ]
        }
      ]
    },
    {
      "cell_type": "code",
      "source": [
        " # Python File Input / Output\n",
        "with open('myfile.txt', 'w') as file:\n",
        "  file.write('Hello World')\n",
        "with open('myfile.txt', 'r') as file:\n",
        "  text = file.read()\n",
        "print(text)"
      ],
      "metadata": {
        "colab": {
          "base_uri": "https://localhost:8080/"
        },
        "id": "yuLWSuZsfDAK",
        "outputId": "0c5fa6ff-3ae6-496f-93f7-cf5a46a5d95d"
      },
      "execution_count": 8,
      "outputs": [
        {
          "output_type": "stream",
          "name": "stdout",
          "text": [
            "Hello World\n"
          ]
        }
      ]
    },
    {
      "cell_type": "code",
      "source": [
        " # Python File Input / Output\n",
        "with open('myfile.txt', 'w') as file:\n",
        "  file.write('Hello World\\nPythonFile IO')\n",
        "with open('myfile.txt', 'r') as file:\n",
        "  text = file.read()\n",
        "print(text)"
      ],
      "metadata": {
        "colab": {
          "base_uri": "https://localhost:8080/"
        },
        "id": "3mGfjcNQfQ7E",
        "outputId": "f16353f4-d10c-4bf1-d8b5-6430154d09f2"
      },
      "execution_count": 9,
      "outputs": [
        {
          "output_type": "stream",
          "name": "stdout",
          "text": [
            "Hello World\n",
            "PythonFile IO\n"
          ]
        }
      ]
    },
    {
      "cell_type": "code",
      "source": [
        "# Python File Input / Output\n",
        "with open('myfile.txt', 'a+') as file:\n",
        "  file.write('\\n'+ 'New line')\n",
        "with open('myfile.txt', 'r') as file:\n",
        "  text = file.read()\n",
        "print(text)"
      ],
      "metadata": {
        "colab": {
          "base_uri": "https://localhost:8080/"
        },
        "id": "ocP7pRX2fdoX",
        "outputId": "7090a0da-901a-403e-be37-dc84c3cfdc2b"
      },
      "execution_count": 11,
      "outputs": [
        {
          "output_type": "stream",
          "name": "stdout",
          "text": [
            "Hello World\n",
            "PythonFile IO\n",
            "New line\n"
          ]
        }
      ]
    },
    {
      "cell_type": "code",
      "source": [
        "# !ls list files\n",
        "!ls"
      ],
      "metadata": {
        "colab": {
          "base_uri": "https://localhost:8080/"
        },
        "id": "vmSt0b39fquU",
        "outputId": "1434c50f-b8fe-4076-fba5-11bfd8cf2c43"
      },
      "execution_count": 12,
      "outputs": [
        {
          "output_type": "stream",
          "name": "stdout",
          "text": [
            "myfile.txt  sample_data\n"
          ]
        }
      ]
    },
    {
      "cell_type": "markdown",
      "source": [
        "# **Python OS, IO, files, and Google Drive**"
      ],
      "metadata": {
        "id": "7RwRqj6Of5xm"
      }
    },
    {
      "cell_type": "code",
      "source": [
        "import os   #thư viện os of python để mở file...\n",
        "cwd = os.getcwd()   #trả về đường dẫn thư mục hiện tại (nơi mà chương trình Python đang chạy\n",
        "print(cwd)"
      ],
      "metadata": {
        "colab": {
          "base_uri": "https://localhost:8080/"
        },
        "id": "vVw_MoC8f8uE",
        "outputId": "67ccb94e-d8d1-4c6a-d82d-ca6fa5234432"
      },
      "execution_count": 13,
      "outputs": [
        {
          "output_type": "stream",
          "name": "stdout",
          "text": [
            "/content\n"
          ]
        }
      ]
    },
    {
      "cell_type": "code",
      "source": [
        "os.listdir(cwd)"
      ],
      "metadata": {
        "colab": {
          "base_uri": "https://localhost:8080/"
        },
        "id": "ZjxJxhRNhCyT",
        "outputId": "3355447b-e6c4-4f73-a083-c579dba0003b"
      },
      "execution_count": 14,
      "outputs": [
        {
          "output_type": "execute_result",
          "data": {
            "text/plain": [
              "['.config', 'myfile.txt', 'sample_data']"
            ]
          },
          "metadata": {},
          "execution_count": 14
        }
      ]
    },
    {
      "cell_type": "code",
      "source": [
        "path = os.path.join(cwd, 'sample_data') #nối các đường dẫn lại với nhau\n",
        "print(path)\n",
        "os.listdir(path)"
      ],
      "metadata": {
        "colab": {
          "base_uri": "https://localhost:8080/"
        },
        "id": "nJNs8Y0IhLoR",
        "outputId": "2927b85c-3d32-4ca9-c009-d13449d4c819"
      },
      "execution_count": 16,
      "outputs": [
        {
          "output_type": "stream",
          "name": "stdout",
          "text": [
            "/content/sample_data\n"
          ]
        },
        {
          "output_type": "execute_result",
          "data": {
            "text/plain": [
              "['README.md',\n",
              " 'anscombe.json',\n",
              " 'california_housing_train.csv',\n",
              " 'california_housing_test.csv',\n",
              " 'mnist_test.csv',\n",
              " 'mnist_train_small.csv']"
            ]
          },
          "metadata": {},
          "execution_count": 16
        }
      ]
    },
    {
      "cell_type": "code",
      "source": [
        "from google.colab import files #thư viện files giúp mở và upload file từ máy tính\n",
        "with open('io_file_myday.txt', 'w') as f:\n",
        "  f.write('Google ColabFile Write Text some content Myday')\n",
        "import time\n",
        "time.sleep(1) # time sleep 1 second tạm dừng chương trình 1 giây (thường để chắc chắn file đã ghi xong trước khi tải về).\n",
        "files.download('io_file_myday.txt') #hàm download\n",
        "print('downloaded')"
      ],
      "metadata": {
        "colab": {
          "base_uri": "https://localhost:8080/",
          "height": 34
        },
        "id": "XVikLoBBhvkb",
        "outputId": "b821c9c8-f17a-4da0-f352-18f571ef5ffd"
      },
      "execution_count": 18,
      "outputs": [
        {
          "output_type": "display_data",
          "data": {
            "text/plain": [
              "<IPython.core.display.Javascript object>"
            ],
            "application/javascript": [
              "\n",
              "    async function download(id, filename, size) {\n",
              "      if (!google.colab.kernel.accessAllowed) {\n",
              "        return;\n",
              "      }\n",
              "      const div = document.createElement('div');\n",
              "      const label = document.createElement('label');\n",
              "      label.textContent = `Downloading \"${filename}\": `;\n",
              "      div.appendChild(label);\n",
              "      const progress = document.createElement('progress');\n",
              "      progress.max = size;\n",
              "      div.appendChild(progress);\n",
              "      document.body.appendChild(div);\n",
              "\n",
              "      const buffers = [];\n",
              "      let downloaded = 0;\n",
              "\n",
              "      const channel = await google.colab.kernel.comms.open(id);\n",
              "      // Send a message to notify the kernel that we're ready.\n",
              "      channel.send({})\n",
              "\n",
              "      for await (const message of channel.messages) {\n",
              "        // Send a message to notify the kernel that we're ready.\n",
              "        channel.send({})\n",
              "        if (message.buffers) {\n",
              "          for (const buffer of message.buffers) {\n",
              "            buffers.push(buffer);\n",
              "            downloaded += buffer.byteLength;\n",
              "            progress.value = downloaded;\n",
              "          }\n",
              "        }\n",
              "      }\n",
              "      const blob = new Blob(buffers, {type: 'application/binary'});\n",
              "      const a = document.createElement('a');\n",
              "      a.href = window.URL.createObjectURL(blob);\n",
              "      a.download = filename;\n",
              "      div.appendChild(a);\n",
              "      a.click();\n",
              "      div.remove();\n",
              "    }\n",
              "  "
            ]
          },
          "metadata": {}
        },
        {
          "output_type": "display_data",
          "data": {
            "text/plain": [
              "<IPython.core.display.Javascript object>"
            ],
            "application/javascript": [
              "download(\"download_ebeb6f94-4dca-423e-b7ac-acb4150a850b\", \"io_file_myday.txt\", 46)"
            ]
          },
          "metadata": {}
        },
        {
          "output_type": "stream",
          "name": "stdout",
          "text": [
            "downloaded\n"
          ]
        }
      ]
    },
    {
      "cell_type": "code",
      "source": [
        "from google.colab import files\n",
        "uploaded = files.upload()\n",
        "for fn in uploaded.keys():\n",
        "  print('User uploaded file \"{name}\" with length {length} bytes'.format(name=fn, length=len(uploaded[fn])))"
      ],
      "metadata": {
        "colab": {
          "base_uri": "https://localhost:8080/",
          "height": 107
        },
        "id": "mfgom20Oi4Gj",
        "outputId": "ff8b99c0-7d02-4220-b1af-3f6d5c7d6278"
      },
      "execution_count": 19,
      "outputs": [
        {
          "output_type": "display_data",
          "data": {
            "text/plain": [
              "<IPython.core.display.HTML object>"
            ],
            "text/html": [
              "\n",
              "     <input type=\"file\" id=\"files-cd15364c-344d-4097-a6d8-1f150ec2f7ed\" name=\"files[]\" multiple disabled\n",
              "        style=\"border:none\" />\n",
              "     <output id=\"result-cd15364c-344d-4097-a6d8-1f150ec2f7ed\">\n",
              "      Upload widget is only available when the cell has been executed in the\n",
              "      current browser session. Please rerun this cell to enable.\n",
              "      </output>\n",
              "      <script>// Copyright 2017 Google LLC\n",
              "//\n",
              "// Licensed under the Apache License, Version 2.0 (the \"License\");\n",
              "// you may not use this file except in compliance with the License.\n",
              "// You may obtain a copy of the License at\n",
              "//\n",
              "//      http://www.apache.org/licenses/LICENSE-2.0\n",
              "//\n",
              "// Unless required by applicable law or agreed to in writing, software\n",
              "// distributed under the License is distributed on an \"AS IS\" BASIS,\n",
              "// WITHOUT WARRANTIES OR CONDITIONS OF ANY KIND, either express or implied.\n",
              "// See the License for the specific language governing permissions and\n",
              "// limitations under the License.\n",
              "\n",
              "/**\n",
              " * @fileoverview Helpers for google.colab Python module.\n",
              " */\n",
              "(function(scope) {\n",
              "function span(text, styleAttributes = {}) {\n",
              "  const element = document.createElement('span');\n",
              "  element.textContent = text;\n",
              "  for (const key of Object.keys(styleAttributes)) {\n",
              "    element.style[key] = styleAttributes[key];\n",
              "  }\n",
              "  return element;\n",
              "}\n",
              "\n",
              "// Max number of bytes which will be uploaded at a time.\n",
              "const MAX_PAYLOAD_SIZE = 100 * 1024;\n",
              "\n",
              "function _uploadFiles(inputId, outputId) {\n",
              "  const steps = uploadFilesStep(inputId, outputId);\n",
              "  const outputElement = document.getElementById(outputId);\n",
              "  // Cache steps on the outputElement to make it available for the next call\n",
              "  // to uploadFilesContinue from Python.\n",
              "  outputElement.steps = steps;\n",
              "\n",
              "  return _uploadFilesContinue(outputId);\n",
              "}\n",
              "\n",
              "// This is roughly an async generator (not supported in the browser yet),\n",
              "// where there are multiple asynchronous steps and the Python side is going\n",
              "// to poll for completion of each step.\n",
              "// This uses a Promise to block the python side on completion of each step,\n",
              "// then passes the result of the previous step as the input to the next step.\n",
              "function _uploadFilesContinue(outputId) {\n",
              "  const outputElement = document.getElementById(outputId);\n",
              "  const steps = outputElement.steps;\n",
              "\n",
              "  const next = steps.next(outputElement.lastPromiseValue);\n",
              "  return Promise.resolve(next.value.promise).then((value) => {\n",
              "    // Cache the last promise value to make it available to the next\n",
              "    // step of the generator.\n",
              "    outputElement.lastPromiseValue = value;\n",
              "    return next.value.response;\n",
              "  });\n",
              "}\n",
              "\n",
              "/**\n",
              " * Generator function which is called between each async step of the upload\n",
              " * process.\n",
              " * @param {string} inputId Element ID of the input file picker element.\n",
              " * @param {string} outputId Element ID of the output display.\n",
              " * @return {!Iterable<!Object>} Iterable of next steps.\n",
              " */\n",
              "function* uploadFilesStep(inputId, outputId) {\n",
              "  const inputElement = document.getElementById(inputId);\n",
              "  inputElement.disabled = false;\n",
              "\n",
              "  const outputElement = document.getElementById(outputId);\n",
              "  outputElement.innerHTML = '';\n",
              "\n",
              "  const pickedPromise = new Promise((resolve) => {\n",
              "    inputElement.addEventListener('change', (e) => {\n",
              "      resolve(e.target.files);\n",
              "    });\n",
              "  });\n",
              "\n",
              "  const cancel = document.createElement('button');\n",
              "  inputElement.parentElement.appendChild(cancel);\n",
              "  cancel.textContent = 'Cancel upload';\n",
              "  const cancelPromise = new Promise((resolve) => {\n",
              "    cancel.onclick = () => {\n",
              "      resolve(null);\n",
              "    };\n",
              "  });\n",
              "\n",
              "  // Wait for the user to pick the files.\n",
              "  const files = yield {\n",
              "    promise: Promise.race([pickedPromise, cancelPromise]),\n",
              "    response: {\n",
              "      action: 'starting',\n",
              "    }\n",
              "  };\n",
              "\n",
              "  cancel.remove();\n",
              "\n",
              "  // Disable the input element since further picks are not allowed.\n",
              "  inputElement.disabled = true;\n",
              "\n",
              "  if (!files) {\n",
              "    return {\n",
              "      response: {\n",
              "        action: 'complete',\n",
              "      }\n",
              "    };\n",
              "  }\n",
              "\n",
              "  for (const file of files) {\n",
              "    const li = document.createElement('li');\n",
              "    li.append(span(file.name, {fontWeight: 'bold'}));\n",
              "    li.append(span(\n",
              "        `(${file.type || 'n/a'}) - ${file.size} bytes, ` +\n",
              "        `last modified: ${\n",
              "            file.lastModifiedDate ? file.lastModifiedDate.toLocaleDateString() :\n",
              "                                    'n/a'} - `));\n",
              "    const percent = span('0% done');\n",
              "    li.appendChild(percent);\n",
              "\n",
              "    outputElement.appendChild(li);\n",
              "\n",
              "    const fileDataPromise = new Promise((resolve) => {\n",
              "      const reader = new FileReader();\n",
              "      reader.onload = (e) => {\n",
              "        resolve(e.target.result);\n",
              "      };\n",
              "      reader.readAsArrayBuffer(file);\n",
              "    });\n",
              "    // Wait for the data to be ready.\n",
              "    let fileData = yield {\n",
              "      promise: fileDataPromise,\n",
              "      response: {\n",
              "        action: 'continue',\n",
              "      }\n",
              "    };\n",
              "\n",
              "    // Use a chunked sending to avoid message size limits. See b/62115660.\n",
              "    let position = 0;\n",
              "    do {\n",
              "      const length = Math.min(fileData.byteLength - position, MAX_PAYLOAD_SIZE);\n",
              "      const chunk = new Uint8Array(fileData, position, length);\n",
              "      position += length;\n",
              "\n",
              "      const base64 = btoa(String.fromCharCode.apply(null, chunk));\n",
              "      yield {\n",
              "        response: {\n",
              "          action: 'append',\n",
              "          file: file.name,\n",
              "          data: base64,\n",
              "        },\n",
              "      };\n",
              "\n",
              "      let percentDone = fileData.byteLength === 0 ?\n",
              "          100 :\n",
              "          Math.round((position / fileData.byteLength) * 100);\n",
              "      percent.textContent = `${percentDone}% done`;\n",
              "\n",
              "    } while (position < fileData.byteLength);\n",
              "  }\n",
              "\n",
              "  // All done.\n",
              "  yield {\n",
              "    response: {\n",
              "      action: 'complete',\n",
              "    }\n",
              "  };\n",
              "}\n",
              "\n",
              "scope.google = scope.google || {};\n",
              "scope.google.colab = scope.google.colab || {};\n",
              "scope.google.colab._files = {\n",
              "  _uploadFiles,\n",
              "  _uploadFilesContinue,\n",
              "};\n",
              "})(self);\n",
              "</script> "
            ]
          },
          "metadata": {}
        },
        {
          "output_type": "stream",
          "name": "stdout",
          "text": [
            "Saving final nộp bài (1).docx to final nộp bài (1).docx\n",
            "User uploaded file \"final nộp bài (1).docx\" with length 2879241 bytes\n"
          ]
        }
      ]
    },
    {
      "cell_type": "code",
      "source": [
        "!ls"
      ],
      "metadata": {
        "colab": {
          "base_uri": "https://localhost:8080/"
        },
        "id": "tHL0uiZlkBY1",
        "outputId": "d16ae168-bb28-4eab-e11f-7bff671e7d75"
      },
      "execution_count": 21,
      "outputs": [
        {
          "output_type": "stream",
          "name": "stdout",
          "text": [
            "'final nộp bài (1).docx'   io_file_myday.txt   myfile.txt   sample_data\n"
          ]
        }
      ]
    },
    {
      "cell_type": "code",
      "source": [
        "with open('final nộp bài (1).docx', 'w') as f:\n",
        "  f.write('Google ColabFile Write Text some content Myday')"
      ],
      "metadata": {
        "id": "juQpVJ8IjssV"
      },
      "execution_count": 25,
      "outputs": []
    },
    {
      "cell_type": "code",
      "source": [
        "import os\n",
        "if os.path.exists(\"myfile.txt\"):   #kiểm tra có file ko và removed file\n",
        "  os.remove(\"myfile.txt\")\n",
        "  print(\"myfile.txt removed\")\n",
        "else:\n",
        " print(\"The file does not exist\")\n"
      ],
      "metadata": {
        "colab": {
          "base_uri": "https://localhost:8080/"
        },
        "id": "aK8UJ7nXks21",
        "outputId": "0bb9d62d-62fa-40b3-a966-0e10b1816e32"
      },
      "execution_count": 26,
      "outputs": [
        {
          "output_type": "stream",
          "name": "stdout",
          "text": [
            "myfile.txt removed\n"
          ]
        }
      ]
    },
    {
      "cell_type": "code",
      "source": [
        "import os\n",
        "os.listdir() #list ra các thư mục đag có\n",
        "os.mkdir(\"myfolder1\")  # make thư mục mới\n",
        "os.listdir()\n",
        "os.rmdir(\"myfolder1\") # removed thư mục\n",
        "os.listdir()"
      ],
      "metadata": {
        "colab": {
          "base_uri": "https://localhost:8080/"
        },
        "id": "Keshgvt3k_2E",
        "outputId": "c3955a3c-dff4-4440-ea94-2544cc32cd72"
      },
      "execution_count": 27,
      "outputs": [
        {
          "output_type": "execute_result",
          "data": {
            "text/plain": [
              "['.config', 'final nộp bài (1).docx', 'io_file_myday.txt', 'sample_data']"
            ]
          },
          "metadata": {},
          "execution_count": 27
        }
      ]
    },
    {
      "cell_type": "markdown",
      "source": [
        "**Python Try Except (Exception Handling)**"
      ],
      "metadata": {
        "id": "sO1NSoZnmcpQ"
      }
    },
    {
      "cell_type": "code",
      "source": [
        " #Python try except  bắt lỗi trong python để không bị dừng khi run\n",
        "try:\n",
        "  print(x)\n",
        "except:\n",
        "  print(\"Exception Error\")"
      ],
      "metadata": {
        "colab": {
          "base_uri": "https://localhost:8080/"
        },
        "id": "56Vy5ILUl_FZ",
        "outputId": "1fee92d2-5f4c-46dd-f581-c9e50dd514c4"
      },
      "execution_count": 28,
      "outputs": [
        {
          "output_type": "stream",
          "name": "stdout",
          "text": [
            "Exception Error\n"
          ]
        }
      ]
    },
    {
      "cell_type": "code",
      "source": [
        "try:\n",
        "    num = int(\"abc\")   # chuyển \"abc\" sang số sẽ lỗi\n",
        "    print(num)\n",
        "except:\n",
        "    print(\"Không thể chuyển sang số!\")"
      ],
      "metadata": {
        "colab": {
          "base_uri": "https://localhost:8080/"
        },
        "id": "HUxkY0LVmUx9",
        "outputId": "848388b1-8b4b-4018-9199-4984086e4952"
      },
      "execution_count": 29,
      "outputs": [
        {
          "output_type": "stream",
          "name": "stdout",
          "text": [
            "Không thể chuyển sang số!\n"
          ]
        }
      ]
    },
    {
      "cell_type": "code",
      "source": [
        "#Python try except finally\n",
        "try:\n",
        "  print(\"Hello\")  #thử xem có sai ko\n",
        "except:\n",
        "  print(\"Exception Error\")  #sai thì chạy except\n",
        "finally:\n",
        "  print(\"Finally process\")  #sai đúng gì cũng chạy để bt là đã run xong"
      ],
      "metadata": {
        "colab": {
          "base_uri": "https://localhost:8080/"
        },
        "id": "gBRUzSJFmsjG",
        "outputId": "27c0a45f-f829-47a0-c441-26c9424721f5"
      },
      "execution_count": 30,
      "outputs": [
        {
          "output_type": "stream",
          "name": "stdout",
          "text": [
            "Hello\n",
            "Finally process\n"
          ]
        }
      ]
    },
    {
      "cell_type": "code",
      "source": [
        " #Python try except else\n",
        "try:\n",
        "  print(\"Hello\")\n",
        "except:\n",
        "  print(\"Exception Error\")\n",
        "else:\n",
        "  print(\"No exception\")"
      ],
      "metadata": {
        "colab": {
          "base_uri": "https://localhost:8080/"
        },
        "id": "Oql_EHsRnG3v",
        "outputId": "8f733e8f-98ba-4a91-eb2c-c11682febb35"
      },
      "execution_count": 31,
      "outputs": [
        {
          "output_type": "stream",
          "name": "stdout",
          "text": [
            "Hello\n",
            "No exception\n"
          ]
        }
      ]
    },
    {
      "cell_type": "code",
      "source": [
        "try:\n",
        " print(\"Hello\")\n",
        "except:\n",
        " print(\"Exception Error\")\n",
        "else:\n",
        " print(\"No exception\")\n",
        "finally:\n",
        " print(\"Finally process\")"
      ],
      "metadata": {
        "colab": {
          "base_uri": "https://localhost:8080/"
        },
        "id": "jAtIBCCsnQ_l",
        "outputId": "f83b0522-9f14-40e9-afd5-f513e0eec530"
      },
      "execution_count": 32,
      "outputs": [
        {
          "output_type": "stream",
          "name": "stdout",
          "text": [
            "Hello\n",
            "No exception\n",
            "Finally process\n"
          ]
        }
      ]
    },
    {
      "cell_type": "code",
      "source": [
        "#Python try: except: else: finally:\n",
        "try:\n",
        " price = float(input(\"Enter the price of the stock (e.g. 10):\"))\n",
        " shares = int(input(\"Enter the number of shares (e.g. 2):\"))\n",
        " total = price 2* shares\n",
        "except Exception as e: #bắt tất cả các lỗi và lưu đối tượng vào e\n",
        "  print(\"Exception error:\", str(e)) #sau đó in trên lỗi ra dưới dạng string\n",
        "else:\n",
        " print(\"The total value of the shares is:\", total)\n",
        "finally:\n",
        " print(\"Thank you.\")"
      ],
      "metadata": {
        "colab": {
          "base_uri": "https://localhost:8080/"
        },
        "id": "BHbXBo54nbc_",
        "outputId": "c2873bdf-920e-4d85-8b22-8811c177deb8"
      },
      "execution_count": 35,
      "outputs": [
        {
          "output_type": "stream",
          "name": "stdout",
          "text": [
            "Enter the price of the stock (e.g. 10):10\n",
            "Enter the number of shares (e.g. 2):0\n",
            "The total value of the shares is: 0.0\n",
            "Thank you.\n"
          ]
        }
      ]
    },
    {
      "cell_type": "code",
      "source": [
        "try:\n",
        "  file = open(\"myfile.txt\", 'w')\n",
        "  file.write(\"Python write file\")\n",
        "  print(\"file saved\")\n",
        "except:\n",
        "  print(\"Exception file Error\")\n",
        "finally:\n",
        "  file.close()\n",
        "  print(\"Finally process\")"
      ],
      "metadata": {
        "colab": {
          "base_uri": "https://localhost:8080/"
        },
        "id": "Yy0gUmQIo3Wc",
        "outputId": "50ee0a47-69f7-46d6-cfc5-7ff431295dbd"
      },
      "execution_count": 37,
      "outputs": [
        {
          "output_type": "stream",
          "name": "stdout",
          "text": [
            "file saved\n",
            "Finally process\n"
          ]
        }
      ]
    }
  ]
}