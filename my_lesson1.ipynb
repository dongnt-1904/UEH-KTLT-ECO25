{
 "cells": [
  {
   "cell_type": "markdown",
   "id": "578c7b17-4031-4ac4-8b87-bd4d531840d0",
   "metadata": {},
   "source": [
    "# Thuc hanh tri tue nhan tao buoi 1\n",
    "## Noi dung thuc hanh"
   ]
  },
  {
   "cell_type": "markdown",
   "id": "c227ee4f-cab2-4f29-9419-a3e92f2f7219",
   "metadata": {},
   "source": [
    "### In chu ra man hinh"
   ]
  },
  {
   "cell_type": "code",
   "execution_count": 1,
   "id": "af004b3f-aefa-424b-b37d-9a39e55ad2d0",
   "metadata": {},
   "outputs": [
    {
     "name": "stdout",
     "output_type": "stream",
     "text": [
      "Hello, Python World!\n"
     ]
    }
   ],
   "source": [
    "# Lenh 1 - xuat chu\n",
    "print(\"Hello, Python World!\")"
   ]
  },
  {
   "cell_type": "markdown",
   "id": "7c630584-899a-40eb-a56b-045d12c631bf",
   "metadata": {},
   "source": [
    "### Chay tap tin python"
   ]
  },
  {
   "cell_type": "code",
   "execution_count": 3,
   "id": "aec3f17d-7bed-441a-a636-491d3885eb6c",
   "metadata": {
    "tags": []
   },
   "outputs": [
    {
     "name": "stdout",
     "output_type": "stream",
     "text": [
      "Hello, Python World!\n"
     ]
    }
   ],
   "source": [
    "!python ex0_hello_world.py"
   ]
  },
  {
   "cell_type": "code",
   "execution_count": 4,
   "id": "e426caf3-28a2-48d1-a17e-819071fee0bb",
   "metadata": {},
   "outputs": [
    {
     "name": "stdout",
     "output_type": "stream",
     "text": [
      "Hello, Python World!\n"
     ]
    }
   ],
   "source": [
    "%run ex0_hello_world.py"
   ]
  },
  {
   "cell_type": "markdown",
   "id": "a586d781-7be8-48ea-94ac-f8e4e5efc922",
   "metadata": {},
   "source": [
    "### Tinh toan co ban"
   ]
  },
  {
   "cell_type": "code",
   "execution_count": 18,
   "id": "5350ef0b-bb5c-49e4-a700-3ec055c7e494",
   "metadata": {},
   "outputs": [
    {
     "name": "stdout",
     "output_type": "stream",
     "text": [
      "Calculator Basic\n"
     ]
    },
    {
     "name": "stdin",
     "output_type": "stream",
     "text": [
      " Moi ban nhap so a:  10\n",
      " Moi ban nhap so b:  20\n"
     ]
    },
    {
     "name": "stdout",
     "output_type": "stream",
     "text": [
      "c = 10 + 20 = 30\n"
     ]
    }
   ],
   "source": [
    "%run ex1_calc.py"
   ]
  },
  {
   "cell_type": "code",
   "execution_count": 12,
   "id": "c7fc719f-9ab6-497d-8dfa-cf9741bddd3c",
   "metadata": {},
   "outputs": [
    {
     "name": "stdout",
     "output_type": "stream",
     "text": [
      "Calculator Basic\n"
     ]
    },
    {
     "name": "stdin",
     "output_type": "stream",
     "text": [
      " Moi ban nhap so a:  10\n",
      " Moi ban nhap so b:  34\n"
     ]
    },
    {
     "name": "stdout",
     "output_type": "stream",
     "text": [
      "c = 10 + 34 = 44\n"
     ]
    }
   ],
   "source": [
    "print(\"Calculator Basic\") \n",
    "a = int(input( \" Moi ban nhap so a: \" )) \n",
    "b = int(input( \" Moi ban nhap so b: \" )) \n",
    "c = a + b \n",
    "print( \"c = %d + %d = %d\" % (a, b, c))"
   ]
  },
  {
   "cell_type": "markdown",
   "id": "2c696975-42ed-41ad-9b0c-9efb9c699ad3",
   "metadata": {},
   "source": [
    "# Ket thuc"
   ]
  }
 ],
 "metadata": {
  "kernelspec": {
   "display_name": "Python 3 (ipykernel)",
   "language": "python",
   "name": "python3"
  },
  "language_info": {
   "codemirror_mode": {
    "name": "ipython",
    "version": 3
   },
   "file_extension": ".py",
   "mimetype": "text/x-python",
   "name": "python",
   "nbconvert_exporter": "python",
   "pygments_lexer": "ipython3",
   "version": "3.13.5"
  }
 },
 "nbformat": 4,
 "nbformat_minor": 5
}
