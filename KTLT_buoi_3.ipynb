{
 "cells": [
  {
   "cell_type": "markdown",
   "id": "c7f30f4a-916d-4df0-818d-069dc45c630e",
   "metadata": {},
   "source": [
    "# Buổi 3_Phân tích và hiển thị dữ liệu"
   ]
  },
  {
   "cell_type": "code",
   "execution_count": 12,
   "id": "da0abacc-c227-4bd8-bed8-f3e7cf5897cc",
   "metadata": {},
   "outputs": [
    {
     "name": "stdout",
     "output_type": "stream",
     "text": [
      "[1, 2, 3, 4, 5]\n",
      "[1, 2, 3, 4, 5, 1, 2, 3, 4, 5]\n"
     ]
    }
   ],
   "source": [
    "v = list(range(1,6))\n",
    "print(v)\n",
    "print(2*v)"
   ]
  },
  {
   "cell_type": "code",
   "execution_count": 13,
   "id": "467f46c0-c8e6-4d7d-b4ce-3a4ba41a3138",
   "metadata": {
    "tags": []
   },
   "outputs": [
    {
     "name": "stdout",
     "output_type": "stream",
     "text": [
      "[1 2 3 4 5]\n",
      "[ 2  4  6  8 10]\n"
     ]
    }
   ],
   "source": [
    "import numpy as np\n",
    "v = np.arange(1,6)\n",
    "print(v)\n",
    "print(v*2)"
   ]
  },
  {
   "cell_type": "markdown",
   "id": "6648925a-9ff3-43b8-bf5b-5ffebf803663",
   "metadata": {},
   "source": [
    "**Mục đích:** Tạo một mảng `numpy` gồm các số từ 1 đến 5, sau đó in ra mảng gốc và mảng đã nhân đôi giá trị của từng phần tử."
   ]
  },
  {
   "cell_type": "code",
   "execution_count": 14,
   "id": "db1637d6-aae9-4bcb-b533-ea282f155a7e",
   "metadata": {
    "tags": []
   },
   "outputs": [],
   "source": [
    "fruits = [\"apple\", \"banana\", \"cherry\"] #lists []\n",
    "colors = (\"red\", \"green\", \"blue\") #tuples ()\n",
    "animals = {'cat', 'dog'} #sets {}\n",
    "person = {\"name\" : \"Tom\", \"age\" : 20} #dictionaries {}"
   ]
  },
  {
   "cell_type": "markdown",
   "id": "93335f03-fe57-40a2-860c-6df82d94141c",
   "metadata": {},
   "source": [
    "**Mục đích:** Khởi tạo bốn kiểu dữ liệu khác nhau trong Python — list, tuple, set và dictionary — để minh họa cách lưu trữ và truy cập dữ liệu theo các cấu trúc khác nhau."
   ]
  },
  {
   "cell_type": "code",
   "execution_count": 15,
   "id": "7d149df1-16db-47ec-9956-a11934460eb8",
   "metadata": {
    "tags": []
   },
   "outputs": [
    {
     "name": "stdout",
     "output_type": "stream",
     "text": [
      "len(x)= 4\n",
      "x[0]= 60\n",
      "x[1]= 70\n",
      "x[-1]= 90\n",
      "x[1:3]= [70, 80]\n"
     ]
    }
   ],
   "source": [
    "x = [60, 70, 80, 90]\n",
    "print('len(x)=',len(x))\n",
    "print('x[0]=',x[0])\n",
    "print('x[1]=', x[1])\n",
    "print('x[-1]=',x[-1])\n",
    "print('x[1:3]=',x[1:3])"
   ]
  },
  {
   "cell_type": "markdown",
   "id": "671e6572-35fc-4dab-b3a2-4de405c5117c",
   "metadata": {},
   "source": [
    "**Mục đích:** Minh họa cách truy cập phần tử trong list `x` bằng chỉ số, bao gồm độ dài list, phần tử đầu tiên, phần tử thứ hai, phần tử cuối cùng và lát cắt con list từ vị trí 1 đến 2.\n"
   ]
  },
  {
   "cell_type": "markdown",
   "id": "dffe528f-47bb-4b73-8b78-f1119bd0fda9",
   "metadata": {},
   "source": [
    "## Thực hành với thu viện Numpy"
   ]
  },
  {
   "cell_type": "code",
   "execution_count": 16,
   "id": "dcd0c6e6-27f0-4e47-b8af-3097c9e5000e",
   "metadata": {
    "tags": []
   },
   "outputs": [
    {
     "name": "stdout",
     "output_type": "stream",
     "text": [
      "c = \n"
     ]
    },
    {
     "data": {
      "text/plain": [
       "array([ 4, 10, 18])"
      ]
     },
     "metadata": {},
     "output_type": "display_data"
    }
   ],
   "source": [
    "from IPython.display import display\n",
    "import numpy as np\n",
    "a = np.array([1, 2, 3])\n",
    "b = np.array([4, 5, 6])\n",
    "c = a * b\n",
    "print('c = ')\n",
    "display(c)"
   ]
  },
  {
   "cell_type": "markdown",
   "id": "8abcb7d1-48ce-4b77-8ed2-a400977cc91d",
   "metadata": {},
   "source": [
    "**Mục đích:** Thực hiện phép nhân từng phần tử giữa hai mảng `numpy` `a` và `b`, sau đó in và hiển thị kết quả mảng `c` bằng hàm `display()`."
   ]
  },
  {
   "cell_type": "code",
   "execution_count": 17,
   "id": "4212c4df-5f02-4245-831d-1d23bf345a3b",
   "metadata": {},
   "outputs": [
    {
     "data": {
      "text/plain": [
       "array([[0., 0.],\n",
       "       [0., 0.]])"
      ]
     },
     "metadata": {},
     "output_type": "display_data"
    },
    {
     "data": {
      "text/plain": [
       "array([[1., 1.],\n",
       "       [1., 1.],\n",
       "       [1., 1.]])"
      ]
     },
     "metadata": {},
     "output_type": "display_data"
    },
    {
     "data": {
      "text/plain": [
       "array([[7, 7, 7, 7, 7],\n",
       "       [7, 7, 7, 7, 7],\n",
       "       [7, 7, 7, 7, 7],\n",
       "       [7, 7, 7, 7, 7]])"
      ]
     },
     "metadata": {},
     "output_type": "display_data"
    },
    {
     "data": {
      "text/plain": [
       "array([[1., 0., 0., 0.],\n",
       "       [0., 1., 0., 0.],\n",
       "       [0., 0., 1., 0.],\n",
       "       [0., 0., 0., 1.]])"
      ]
     },
     "metadata": {},
     "output_type": "display_data"
    },
    {
     "data": {
      "text/plain": [
       "array([[0.88634931, 0.46788359],\n",
       "       [0.83353314, 0.59742238]])"
      ]
     },
     "metadata": {},
     "output_type": "display_data"
    }
   ],
   "source": [
    "import numpy as np\n",
    "\n",
    "a = np.zeros((2,2))\n",
    "display(a)\n",
    "\n",
    "b = np.ones((3,2))\n",
    "display(b)\n",
    "\n",
    "c = np.full((4,5),7)\n",
    "display(c)\n",
    "\n",
    "d = np.eye(4)\n",
    "display(d)\n",
    "\n",
    "e = np.random.random((2,2))\n",
    "display(e)"
   ]
  },
  {
   "cell_type": "markdown",
   "id": "0bb10869-0b42-4599-9bcf-74bdc43878f6",
   "metadata": {},
   "source": [
    "**Mục đích:** Tạo một mảng `numpy` gồm 15 phần tử dạng float, sau đó chuyển thành ma trận 3x5 và hiển thị các thông tin cơ bản của mảng như hình dạng (`shape`), số chiều (`ndim`) và kiểu dữ liệu (`dtype`)."
   ]
  },
  {
   "cell_type": "code",
   "execution_count": 18,
   "id": "65b39b11-019c-4562-92a3-6b2b95ecf81a",
   "metadata": {
    "tags": []
   },
   "outputs": [
    {
     "data": {
      "text/plain": [
       "array([ 0.,  1.,  2.,  3.,  4.,  5.,  6.,  7.,  8.,  9., 10., 11., 12.,\n",
       "       13., 14.])"
      ]
     },
     "metadata": {},
     "output_type": "display_data"
    },
    {
     "data": {
      "text/plain": [
       "array([[ 0.,  1.,  2.,  3.,  4.],\n",
       "       [ 5.,  6.,  7.,  8.,  9.],\n",
       "       [10., 11., 12., 13., 14.]])"
      ]
     },
     "metadata": {},
     "output_type": "display_data"
    },
    {
     "data": {
      "text/plain": [
       "(3, 5)"
      ]
     },
     "metadata": {},
     "output_type": "display_data"
    },
    {
     "data": {
      "text/plain": [
       "2"
      ]
     },
     "metadata": {},
     "output_type": "display_data"
    },
    {
     "data": {
      "text/plain": [
       "dtype('float64')"
      ]
     },
     "metadata": {},
     "output_type": "display_data"
    }
   ],
   "source": [
    "import numpy as np\n",
    "a = np.arange(15, dtype=float)\n",
    "display(a)\n",
    "\n",
    "a = a.reshape(3,5)\n",
    "display(a)\n",
    "\n",
    "display(a.shape)\n",
    "display(a.ndim)\n",
    "display(a.dtype)"
   ]
  },
  {
   "cell_type": "markdown",
   "id": "3073add2-9896-43a8-b6b0-14d28751600e",
   "metadata": {},
   "source": [
    "**Mục đích:** Khởi tạo mảng `numpy` gồm 15 giá trị float liên tiếp, định hình lại thành ma trận 3 hàng 5 cột, và hiển thị các thuộc tính cơ bản của mảng gồm kích thước (`shape`), số chiều (`ndim`), cùng kiểu dữ liệu (`dtype`)."
   ]
  },
  {
   "cell_type": "code",
   "execution_count": 19,
   "id": "f01406b4-1e8a-4cac-bebf-146b4a28cfae",
   "metadata": {},
   "outputs": [
    {
     "data": {
      "text/plain": [
       "array([1, 2, 3, 4, 5])"
      ]
     },
     "metadata": {},
     "output_type": "display_data"
    }
   ],
   "source": [
    "import numpy as np\n",
    "a = np.array([1,2,3,4,5])\n",
    "display(a)"
   ]
  },
  {
   "cell_type": "code",
   "execution_count": 20,
   "id": "361242f8-a692-4cb2-81b6-c152981d05c5",
   "metadata": {},
   "outputs": [
    {
     "data": {
      "text/plain": [
       "array([[ 1,  2,  3,  4,  5],\n",
       "       [ 6,  7,  8,  9, 10],\n",
       "       [11, 12, 13, 14, 15],\n",
       "       [16, 17, 18, 19, 20]])"
      ]
     },
     "metadata": {},
     "output_type": "display_data"
    },
    {
     "data": {
      "text/plain": [
       "(4, 5)"
      ]
     },
     "metadata": {},
     "output_type": "display_data"
    },
    {
     "data": {
      "text/plain": [
       "2"
      ]
     },
     "metadata": {},
     "output_type": "display_data"
    },
    {
     "data": {
      "text/plain": [
       "dtype('int64')"
      ]
     },
     "metadata": {},
     "output_type": "display_data"
    }
   ],
   "source": [
    "a = np.array([\n",
    "    [1,2,3,4,5],\n",
    "    [6,7,8,9,10],\n",
    "    [11,12,13,14,15],\n",
    "    [16,17,18,19,20]\n",
    "])\n",
    "display(a)\n",
    "display(a.shape)\n",
    "display(a.ndim)\n",
    "display(a.dtype)"
   ]
  },
  {
   "cell_type": "code",
   "execution_count": 21,
   "id": "94d72d81-7042-489c-b143-753960e3cb5e",
   "metadata": {
    "tags": []
   },
   "outputs": [
    {
     "data": {
      "text/plain": [
       "array([[ 0,  1,  2,  3],\n",
       "       [10, 11, 12, 13],\n",
       "       [20, 21, 22, 23]])"
      ]
     },
     "metadata": {},
     "output_type": "display_data"
    },
    {
     "data": {
      "text/plain": [
       "(3, 4)"
      ]
     },
     "metadata": {},
     "output_type": "display_data"
    },
    {
     "data": {
      "text/plain": [
       "2"
      ]
     },
     "metadata": {},
     "output_type": "display_data"
    }
   ],
   "source": [
    "a = np.array([\n",
    "    [0,1,2,3],\n",
    "    [10,11,12,13],\n",
    "    [20,21,22,23]\n",
    "])\n",
    "display(a)\n",
    "display(a.shape)\n",
    "display(a.ndim)"
   ]
  },
  {
   "cell_type": "markdown",
   "id": "60cd3f29-08c0-4bb2-a007-5f47989e6df3",
   "metadata": {},
   "source": [
    "**Mục đích:** Tạo một mảng hai chiều `numpy` gồm 3 hàng và 4 cột, sau đó hiển thị nội dung mảng cùng với các thuộc tính cơ bản là kích thước (`shape`) và số chiều (`ndim`)."
   ]
  },
  {
   "cell_type": "code",
   "execution_count": 22,
   "id": "ab97344e-ad98-420f-aa73-d877ddfbcd5b",
   "metadata": {
    "tags": []
   },
   "outputs": [
    {
     "data": {
      "text/plain": [
       "array([[1, 2, 3],\n",
       "       [4, 5, 6],\n",
       "       [7, 8, 9]])"
      ]
     },
     "metadata": {},
     "output_type": "display_data"
    }
   ],
   "source": [
    "a = np.arange(1, 10).reshape(3,3)\n",
    "display(a)"
   ]
  },
  {
   "cell_type": "markdown",
   "id": "abb6c63a-6bc2-482a-a384-874a460d006c",
   "metadata": {},
   "source": [
    "**Mục đích:** Tạo một mảng `numpy` gồm các số từ 1 đến 9 và định hình lại thành ma trận vuông 3x3, sau đó hiển thị kết quả.\n"
   ]
  },
  {
   "cell_type": "code",
   "execution_count": 23,
   "id": "561e5559-843d-4b3d-9a40-9c75deab63d1",
   "metadata": {
    "tags": []
   },
   "outputs": [
    {
     "data": {
      "text/plain": [
       "array([7, 8, 9])"
      ]
     },
     "metadata": {},
     "output_type": "display_data"
    },
    {
     "data": {
      "text/plain": [
       "(3,)"
      ]
     },
     "metadata": {},
     "output_type": "display_data"
    },
    {
     "data": {
      "text/plain": [
       "array([7, 8, 9])"
      ]
     },
     "metadata": {},
     "output_type": "display_data"
    },
    {
     "data": {
      "text/plain": [
       "(3,)"
      ]
     },
     "metadata": {},
     "output_type": "display_data"
    },
    {
     "data": {
      "text/plain": [
       "array([[7, 8, 9]])"
      ]
     },
     "metadata": {},
     "output_type": "display_data"
    },
    {
     "data": {
      "text/plain": [
       "(1, 3)"
      ]
     },
     "metadata": {},
     "output_type": "display_data"
    }
   ],
   "source": [
    "display(a[2])\n",
    "display(a[2].shape)\n",
    "\n",
    "display(a[2,:])\n",
    "display(a[2,:].shape)\n",
    "\n",
    "display(a[2:,:])\n",
    "display(a[2:,:].shape)"
   ]
  },
  {
   "cell_type": "markdown",
   "id": "ece22ee5-18b9-47be-ba3b-1c2aae209c4c",
   "metadata": {},
   "source": [
    "**Mục đích:** Minh họa cách truy cập và cắt lát hàng trong mảng `numpy` 2 chiều. Cụ thể: lấy toàn bộ hàng thứ 3 (`a[2]`), hàng thứ 3 theo cú pháp đầy đủ (`a[2, :]`), và tất cả các hàng từ hàng thứ 3 trở đi (`a[2:,]`), đồng thời hiển thị hình dạng (`shape`) tương ứng của từng kết quả.\n"
   ]
  },
  {
   "cell_type": "markdown",
   "id": "a74af32c-9b69-43e9-9dd5-213e4f720b70",
   "metadata": {},
   "source": [
    "## Thực hành với thư viện Pandas"
   ]
  },
  {
   "cell_type": "code",
   "execution_count": 24,
   "id": "f708df56-e59f-470f-a47e-907a6ae9216e",
   "metadata": {
    "tags": []
   },
   "outputs": [
    {
     "data": {
      "text/html": [
       "<div>\n",
       "<style scoped>\n",
       "    .dataframe tbody tr th:only-of-type {\n",
       "        vertical-align: middle;\n",
       "    }\n",
       "\n",
       "    .dataframe tbody tr th {\n",
       "        vertical-align: top;\n",
       "    }\n",
       "\n",
       "    .dataframe thead th {\n",
       "        text-align: right;\n",
       "    }\n",
       "</style>\n",
       "<table border=\"1\" class=\"dataframe\">\n",
       "  <thead>\n",
       "    <tr style=\"text-align: right;\">\n",
       "      <th></th>\n",
       "      <th>a</th>\n",
       "      <th>b</th>\n",
       "      <th>c</th>\n",
       "    </tr>\n",
       "  </thead>\n",
       "  <tbody>\n",
       "    <tr>\n",
       "      <th>1</th>\n",
       "      <td>4</td>\n",
       "      <td>7</td>\n",
       "      <td>10</td>\n",
       "    </tr>\n",
       "    <tr>\n",
       "      <th>2</th>\n",
       "      <td>5</td>\n",
       "      <td>8</td>\n",
       "      <td>11</td>\n",
       "    </tr>\n",
       "    <tr>\n",
       "      <th>3</th>\n",
       "      <td>6</td>\n",
       "      <td>9</td>\n",
       "      <td>12</td>\n",
       "    </tr>\n",
       "  </tbody>\n",
       "</table>\n",
       "</div>"
      ],
      "text/plain": [
       "   a  b   c\n",
       "1  4  7  10\n",
       "2  5  8  11\n",
       "3  6  9  12"
      ]
     },
     "metadata": {},
     "output_type": "display_data"
    },
    {
     "data": {
      "text/plain": [
       "a     4\n",
       "b     7\n",
       "c    10\n",
       "Name: 1, dtype: int64"
      ]
     },
     "metadata": {},
     "output_type": "display_data"
    },
    {
     "data": {
      "text/html": [
       "<div>\n",
       "<style scoped>\n",
       "    .dataframe tbody tr th:only-of-type {\n",
       "        vertical-align: middle;\n",
       "    }\n",
       "\n",
       "    .dataframe tbody tr th {\n",
       "        vertical-align: top;\n",
       "    }\n",
       "\n",
       "    .dataframe thead th {\n",
       "        text-align: right;\n",
       "    }\n",
       "</style>\n",
       "<table border=\"1\" class=\"dataframe\">\n",
       "  <thead>\n",
       "    <tr style=\"text-align: right;\">\n",
       "      <th></th>\n",
       "      <th>a</th>\n",
       "      <th>b</th>\n",
       "      <th>c</th>\n",
       "    </tr>\n",
       "  </thead>\n",
       "  <tbody>\n",
       "    <tr>\n",
       "      <th>0</th>\n",
       "      <td>4</td>\n",
       "      <td>7</td>\n",
       "      <td>10</td>\n",
       "    </tr>\n",
       "    <tr>\n",
       "      <th>1</th>\n",
       "      <td>5</td>\n",
       "      <td>8</td>\n",
       "      <td>11</td>\n",
       "    </tr>\n",
       "    <tr>\n",
       "      <th>2</th>\n",
       "      <td>6</td>\n",
       "      <td>9</td>\n",
       "      <td>12</td>\n",
       "    </tr>\n",
       "  </tbody>\n",
       "</table>\n",
       "</div>"
      ],
      "text/plain": [
       "   a  b   c\n",
       "0  4  7  10\n",
       "1  5  8  11\n",
       "2  6  9  12"
      ]
     },
     "metadata": {},
     "output_type": "display_data"
    },
    {
     "data": {
      "text/plain": [
       "a     5\n",
       "b     8\n",
       "c    11\n",
       "Name: 1, dtype: int64"
      ]
     },
     "metadata": {},
     "output_type": "display_data"
    }
   ],
   "source": [
    "from IPython.display import display\n",
    "import pandas as pd\n",
    "a = pd.DataFrame({\n",
    "        'a': [4,5,6],\n",
    "        'b': [7,8,9],\n",
    "        'c': [10,11,12],\n",
    "    }, index = [1,2,3])\n",
    "display(a)\n",
    "display(a.loc[1])\n",
    "\n",
    "b = pd.DataFrame([\n",
    "    {'a':4,'b':7,'c':10},\n",
    "    {'a':5,'b':8,'c':11},\n",
    "    {'a':6,'b':9,'c':12},\n",
    "])\n",
    "display(b)\n",
    "display(b.loc[1])"
   ]
  },
  {
   "cell_type": "markdown",
   "id": "66a33518-11a8-4c1d-9343-152195debbe7",
   "metadata": {},
   "source": [
    "**Mục đích:** Minh họa cách tạo và truy cập dữ liệu trong `pandas.DataFrame` bằng hai phương pháp khác nhau.  \n",
    "- Ở phần đầu, DataFrame `a` được tạo từ một dictionary, trong đó mỗi khóa đại diện cho một cột và `index` được gán thủ công là `[1,2,3]`. Sau đó, sử dụng `a.loc[1]` để truy xuất toàn bộ hàng có chỉ số 1.  \n",
    "- Ở phần sau, DataFrame `b` được khởi tạo từ danh sách các dictionary, mỗi dictionary tương ứng với một hàng dữ liệu. Tiếp tục dùng `b.loc[1]` để truy cập hàng thứ hai trong bảng (vì chỉ số mặc định bắt đầu từ 0).  \n",
    "Cả hai cách đều cho kết quả tương tự nhưng thể hiện hai phương thức khởi tạo DataFrame phổ biến trong `pandas`."
   ]
  },
  {
   "cell_type": "code",
   "execution_count": 25,
   "id": "10b17a96-a444-4311-97b1-47513275f345",
   "metadata": {},
   "outputs": [
    {
     "data": {
      "text/plain": [
       "pandas.core.frame.DataFrame"
      ]
     },
     "metadata": {},
     "output_type": "display_data"
    }
   ],
   "source": [
    "display(type(a))"
   ]
  },
  {
   "cell_type": "code",
   "execution_count": 26,
   "id": "aa8e666b-2ca4-434d-ba93-c2585fa1379b",
   "metadata": {
    "tags": []
   },
   "outputs": [
    {
     "data": {
      "text/plain": [
       "0    1.0\n",
       "1    3.0\n",
       "2    5.0\n",
       "3    NaN\n",
       "4    6.0\n",
       "5    8.0\n",
       "dtype: float64"
      ]
     },
     "metadata": {},
     "output_type": "display_data"
    },
    {
     "data": {
      "text/plain": [
       "DatetimeIndex(['2018-10-01', '2018-10-02', '2018-10-03', '2018-10-04',\n",
       "               '2018-10-05', '2018-10-06'],\n",
       "              dtype='datetime64[ns]', freq='D')"
      ]
     },
     "metadata": {},
     "output_type": "display_data"
    }
   ],
   "source": [
    "import numpy as np\n",
    "import pandas as pd\n",
    "import matplotlib.pyplot as plt\n",
    "\n",
    "s = pd.Series([1,3,5,np.nan,6,8])\n",
    "display(s)\n",
    "\n",
    "dates = pd.date_range('20181001', periods = 6)\n",
    "display(dates)"
   ]
  },
  {
   "cell_type": "markdown",
   "id": "f6b7cc0c-4c35-4298-9982-4d939efc08ae",
   "metadata": {},
   "source": [
    "**Mục đích:** Giới thiệu hai cấu trúc dữ liệu cơ bản trong `pandas`: `Series` và `DatetimeIndex`.  \n",
    "- Đầu tiên, tạo một đối tượng `Series` chứa các giá trị số, trong đó có một giá trị bị thiếu (`NaN`), minh họa khả năng xử lý dữ liệu thiếu của `pandas`.  \n",
    "- Tiếp theo, tạo một dãy ngày (`DatetimeIndex`) gồm 6 ngày liên tiếp bắt đầu từ ngày 01/10/2018 bằng hàm `pd.date_range()`, thường dùng để gán làm chỉ mục thời gian cho dữ liệu chuỗi thời gian."
   ]
  },
  {
   "cell_type": "code",
   "execution_count": 27,
   "id": "074bcd84-0046-4542-bfcc-079dfe9a2c3a",
   "metadata": {
    "tags": []
   },
   "outputs": [
    {
     "data": {
      "text/html": [
       "<div>\n",
       "<style scoped>\n",
       "    .dataframe tbody tr th:only-of-type {\n",
       "        vertical-align: middle;\n",
       "    }\n",
       "\n",
       "    .dataframe tbody tr th {\n",
       "        vertical-align: top;\n",
       "    }\n",
       "\n",
       "    .dataframe thead th {\n",
       "        text-align: right;\n",
       "    }\n",
       "</style>\n",
       "<table border=\"1\" class=\"dataframe\">\n",
       "  <thead>\n",
       "    <tr style=\"text-align: right;\">\n",
       "      <th></th>\n",
       "      <th>A</th>\n",
       "      <th>B</th>\n",
       "      <th>C</th>\n",
       "      <th>D</th>\n",
       "    </tr>\n",
       "  </thead>\n",
       "  <tbody>\n",
       "    <tr>\n",
       "      <th>2018-10-01</th>\n",
       "      <td>-0.812298</td>\n",
       "      <td>0.243527</td>\n",
       "      <td>-0.169826</td>\n",
       "      <td>-0.152339</td>\n",
       "    </tr>\n",
       "    <tr>\n",
       "      <th>2018-10-02</th>\n",
       "      <td>0.452627</td>\n",
       "      <td>-0.890433</td>\n",
       "      <td>-0.238698</td>\n",
       "      <td>-0.269286</td>\n",
       "    </tr>\n",
       "    <tr>\n",
       "      <th>2018-10-03</th>\n",
       "      <td>-1.136511</td>\n",
       "      <td>0.643202</td>\n",
       "      <td>1.077230</td>\n",
       "      <td>-0.291040</td>\n",
       "    </tr>\n",
       "    <tr>\n",
       "      <th>2018-10-04</th>\n",
       "      <td>0.751174</td>\n",
       "      <td>0.581389</td>\n",
       "      <td>-1.354584</td>\n",
       "      <td>0.370192</td>\n",
       "    </tr>\n",
       "    <tr>\n",
       "      <th>2018-10-05</th>\n",
       "      <td>0.418577</td>\n",
       "      <td>-1.462258</td>\n",
       "      <td>0.395155</td>\n",
       "      <td>-0.346258</td>\n",
       "    </tr>\n",
       "    <tr>\n",
       "      <th>2018-10-06</th>\n",
       "      <td>0.357212</td>\n",
       "      <td>-0.929648</td>\n",
       "      <td>-0.565685</td>\n",
       "      <td>-0.484340</td>\n",
       "    </tr>\n",
       "  </tbody>\n",
       "</table>\n",
       "</div>"
      ],
      "text/plain": [
       "                   A         B         C         D\n",
       "2018-10-01 -0.812298  0.243527 -0.169826 -0.152339\n",
       "2018-10-02  0.452627 -0.890433 -0.238698 -0.269286\n",
       "2018-10-03 -1.136511  0.643202  1.077230 -0.291040\n",
       "2018-10-04  0.751174  0.581389 -1.354584  0.370192\n",
       "2018-10-05  0.418577 -1.462258  0.395155 -0.346258\n",
       "2018-10-06  0.357212 -0.929648 -0.565685 -0.484340"
      ]
     },
     "metadata": {},
     "output_type": "display_data"
    },
    {
     "data": {
      "text/plain": [
       "A   -1.136511\n",
       "B    0.643202\n",
       "C    1.077230\n",
       "D   -0.291040\n",
       "Name: 2018-10-03 00:00:00, dtype: float64"
      ]
     },
     "metadata": {},
     "output_type": "display_data"
    },
    {
     "data": {
      "text/plain": [
       "2018-10-01    0.243527\n",
       "2018-10-02   -0.890433\n",
       "2018-10-03    0.643202\n",
       "2018-10-04    0.581389\n",
       "2018-10-05   -1.462258\n",
       "2018-10-06   -0.929648\n",
       "Freq: D, Name: B, dtype: float64"
      ]
     },
     "metadata": {},
     "output_type": "display_data"
    }
   ],
   "source": [
    "df = pd.DataFrame(np.random.randn(6,4), columns=['A','B','C','D'], index = dates)\n",
    "display(df)\n",
    "\n",
    "display(df.loc['2018-10-03'])\n",
    "display(df['B'])"
   ]
  },
  {
   "cell_type": "markdown",
   "id": "17b1a40f-83b2-4d90-824b-564603f1316d",
   "metadata": {},
   "source": [
    "**Mục đích:** Tạo một `DataFrame` gồm 6 hàng và 4 cột (`A`, `B`, `C`, `D`) chứa các giá trị ngẫu nhiên, với chỉ mục là chuỗi ngày `dates` đã tạo trước đó.  \n",
    "Sau đó:  \n",
    "- `df.loc['2018-10-03']` được dùng để truy xuất toàn bộ dữ liệu của hàng có ngày 03/10/2018.  \n",
    "- `df['B']` lấy toàn bộ cột `B` trong DataFrame, minh họa cách truy cập dữ liệu theo hàng và cột trong `pandas`."
   ]
  },
  {
   "cell_type": "code",
   "execution_count": 28,
   "id": "3a8298ea-b687-45ff-8aa1-4b6d6664b5ee",
   "metadata": {
    "tags": []
   },
   "outputs": [
    {
     "data": {
      "text/html": [
       "<div>\n",
       "<style scoped>\n",
       "    .dataframe tbody tr th:only-of-type {\n",
       "        vertical-align: middle;\n",
       "    }\n",
       "\n",
       "    .dataframe tbody tr th {\n",
       "        vertical-align: top;\n",
       "    }\n",
       "\n",
       "    .dataframe thead th {\n",
       "        text-align: right;\n",
       "    }\n",
       "</style>\n",
       "<table border=\"1\" class=\"dataframe\">\n",
       "  <thead>\n",
       "    <tr style=\"text-align: right;\">\n",
       "      <th></th>\n",
       "      <th>A</th>\n",
       "      <th>B</th>\n",
       "      <th>C</th>\n",
       "      <th>D</th>\n",
       "      <th>E</th>\n",
       "    </tr>\n",
       "  </thead>\n",
       "  <tbody>\n",
       "    <tr>\n",
       "      <th>student 1</th>\n",
       "      <td>-0.573560</td>\n",
       "      <td>0.377123</td>\n",
       "      <td>0.779121</td>\n",
       "      <td>1.162055</td>\n",
       "      <td>0.836426</td>\n",
       "    </tr>\n",
       "    <tr>\n",
       "      <th>student 2</th>\n",
       "      <td>-0.068122</td>\n",
       "      <td>-0.163365</td>\n",
       "      <td>-1.321871</td>\n",
       "      <td>-0.952830</td>\n",
       "      <td>-1.981419</td>\n",
       "    </tr>\n",
       "    <tr>\n",
       "      <th>student 3</th>\n",
       "      <td>-0.160044</td>\n",
       "      <td>-0.636837</td>\n",
       "      <td>1.292314</td>\n",
       "      <td>1.085127</td>\n",
       "      <td>0.476849</td>\n",
       "    </tr>\n",
       "  </tbody>\n",
       "</table>\n",
       "</div>"
      ],
      "text/plain": [
       "                  A         B         C         D         E\n",
       "student 1 -0.573560  0.377123  0.779121  1.162055  0.836426\n",
       "student 2 -0.068122 -0.163365 -1.321871 -0.952830 -1.981419\n",
       "student 3 -0.160044 -0.636837  1.292314  1.085127  0.476849"
      ]
     },
     "execution_count": 28,
     "metadata": {},
     "output_type": "execute_result"
    }
   ],
   "source": [
    "df = pd.DataFrame(np.random.randn(3,5), columns=list('ABCDE'), index=['student 1','student 2', 'student 3'])\n",
    "df"
   ]
  },
  {
   "cell_type": "markdown",
   "id": "b5843468-c3e7-45f6-ad7a-0f9425246fb7",
   "metadata": {},
   "source": [
    "**Mục đích:** Tạo một `DataFrame` trong `pandas` gồm 3 hàng và 5 cột (`A` đến `E`), chứa các giá trị ngẫu nhiên.  \n",
    "Chỉ mục của các hàng được đặt tên là `'student 1'`, `'student 2'`, và `'student 3'`, giúp minh họa cách gán nhãn tùy chỉnh cho các hàng trong DataFrame."
   ]
  },
  {
   "cell_type": "code",
   "execution_count": 29,
   "id": "333ddc3c-1666-4234-b55d-3021c312c21d",
   "metadata": {
    "tags": []
   },
   "outputs": [
    {
     "data": {
      "text/html": [
       "<div>\n",
       "<style scoped>\n",
       "    .dataframe tbody tr th:only-of-type {\n",
       "        vertical-align: middle;\n",
       "    }\n",
       "\n",
       "    .dataframe tbody tr th {\n",
       "        vertical-align: top;\n",
       "    }\n",
       "\n",
       "    .dataframe thead th {\n",
       "        text-align: right;\n",
       "    }\n",
       "</style>\n",
       "<table border=\"1\" class=\"dataframe\">\n",
       "  <thead>\n",
       "    <tr style=\"text-align: right;\">\n",
       "      <th></th>\n",
       "      <th>A</th>\n",
       "      <th>B</th>\n",
       "      <th>C</th>\n",
       "      <th>D</th>\n",
       "      <th>E</th>\n",
       "      <th>F</th>\n",
       "    </tr>\n",
       "  </thead>\n",
       "  <tbody>\n",
       "    <tr>\n",
       "      <th>0</th>\n",
       "      <td>1.0</td>\n",
       "      <td>2018-10-01</td>\n",
       "      <td>2.5</td>\n",
       "      <td>3</td>\n",
       "      <td>test</td>\n",
       "      <td>foo</td>\n",
       "    </tr>\n",
       "    <tr>\n",
       "      <th>1</th>\n",
       "      <td>1.0</td>\n",
       "      <td>2018-10-01</td>\n",
       "      <td>2.5</td>\n",
       "      <td>3</td>\n",
       "      <td>train</td>\n",
       "      <td>foo</td>\n",
       "    </tr>\n",
       "    <tr>\n",
       "      <th>2</th>\n",
       "      <td>1.0</td>\n",
       "      <td>2018-10-01</td>\n",
       "      <td>2.5</td>\n",
       "      <td>3</td>\n",
       "      <td>test</td>\n",
       "      <td>foo</td>\n",
       "    </tr>\n",
       "    <tr>\n",
       "      <th>3</th>\n",
       "      <td>1.0</td>\n",
       "      <td>2018-10-01</td>\n",
       "      <td>2.5</td>\n",
       "      <td>3</td>\n",
       "      <td>train</td>\n",
       "      <td>foo</td>\n",
       "    </tr>\n",
       "  </tbody>\n",
       "</table>\n",
       "</div>"
      ],
      "text/plain": [
       "     A          B    C  D      E    F\n",
       "0  1.0 2018-10-01  2.5  3   test  foo\n",
       "1  1.0 2018-10-01  2.5  3  train  foo\n",
       "2  1.0 2018-10-01  2.5  3   test  foo\n",
       "3  1.0 2018-10-01  2.5  3  train  foo"
      ]
     },
     "metadata": {},
     "output_type": "display_data"
    }
   ],
   "source": [
    "df2 = pd.DataFrame({ \n",
    "    'A' : 1.,\n",
    "    'B' : pd.Timestamp('20181001'),\n",
    "    'C' : pd.Series(2.5,index=list(range(4)),dtype='float32'),\n",
    "    'D' : np.array([3] * 4,dtype='int32'),\n",
    "    'E' : pd.Categorical([\"test\",\"train\",\"test\",\"train\"]),\n",
    "    'F' : 'foo' \n",
    "})\n",
    "display(df2)"
   ]
  },
  {
   "cell_type": "markdown",
   "id": "7233b0b7-5fcf-41e0-aefd-2f81b1be5563",
   "metadata": {},
   "source": [
    "**Mục đích:** Tạo một `DataFrame` phức hợp trong `pandas` để minh họa khả năng xử lý nhiều kiểu dữ liệu khác nhau trong cùng một bảng.  \n",
    "Cụ thể:  \n",
    "- Cột `A` là giá trị số thực cố định.  \n",
    "- Cột `B` chứa dữ liệu thời gian (`Timestamp`).  \n",
    "- Cột `C` là `Series` kiểu `float32`.  \n",
    "- Cột `D` là mảng `numpy` kiểu `int32`.  \n",
    "- Cột `E` là dữ liệu phân loại (`Categorical`).  \n",
    "- Cột `F` chứa chuỗi ký tự giống nhau.  \n",
    "Đoạn code cho thấy cách `pandas` tự động quản lý và tối ưu hóa các kiểu dữ liệu khác nhau trong cùng một `DataFrame`."
   ]
  },
  {
   "cell_type": "code",
   "execution_count": 30,
   "id": "bc4b59a4-a9f5-412b-a55d-3e6f263dc162",
   "metadata": {},
   "outputs": [
    {
     "data": {
      "text/plain": [
       "A          float64\n",
       "B    datetime64[s]\n",
       "C          float32\n",
       "D            int32\n",
       "E         category\n",
       "F           object\n",
       "dtype: object"
      ]
     },
     "execution_count": 30,
     "metadata": {},
     "output_type": "execute_result"
    }
   ],
   "source": [
    "df2.dtypes"
   ]
  },
  {
   "cell_type": "code",
   "execution_count": 31,
   "id": "6168c1e7-2691-43a6-93e5-2b323b29bbd1",
   "metadata": {
    "tags": []
   },
   "outputs": [
    {
     "data": {
      "text/html": [
       "<div>\n",
       "<style scoped>\n",
       "    .dataframe tbody tr th:only-of-type {\n",
       "        vertical-align: middle;\n",
       "    }\n",
       "\n",
       "    .dataframe tbody tr th {\n",
       "        vertical-align: top;\n",
       "    }\n",
       "\n",
       "    .dataframe thead th {\n",
       "        text-align: right;\n",
       "    }\n",
       "</style>\n",
       "<table border=\"1\" class=\"dataframe\">\n",
       "  <thead>\n",
       "    <tr style=\"text-align: right;\">\n",
       "      <th></th>\n",
       "      <th>Date</th>\n",
       "      <th>Description</th>\n",
       "      <th>Amount</th>\n",
       "    </tr>\n",
       "  </thead>\n",
       "  <tbody>\n",
       "    <tr>\n",
       "      <th>0</th>\n",
       "      <td>2023-11-01</td>\n",
       "      <td>Income</td>\n",
       "      <td>1000</td>\n",
       "    </tr>\n",
       "    <tr>\n",
       "      <th>1</th>\n",
       "      <td>2023-11-02</td>\n",
       "      <td>Groceries</td>\n",
       "      <td>-200</td>\n",
       "    </tr>\n",
       "    <tr>\n",
       "      <th>2</th>\n",
       "      <td>2023-11-03</td>\n",
       "      <td>Utilities</td>\n",
       "      <td>-100</td>\n",
       "    </tr>\n",
       "  </tbody>\n",
       "</table>\n",
       "</div>"
      ],
      "text/plain": [
       "         Date Description Amount\n",
       "0  2023-11-01      Income   1000\n",
       "1  2023-11-02   Groceries   -200\n",
       "2  2023-11-03   Utilities   -100"
      ]
     },
     "metadata": {},
     "output_type": "display_data"
    },
    {
     "name": "stdout",
     "output_type": "stream",
     "text": [
      "Current Balance: 700\n"
     ]
    }
   ],
   "source": [
    "import pandas as pd\n",
    "from IPython.display import display\n",
    "\n",
    "# Create a DataFrame to store transactions\n",
    "columns = ['Date', 'Description', 'Amount']\n",
    "ledger = pd.DataFrame(columns=columns)\n",
    "# display(ledger)\n",
    "\n",
    "# Init a DataFrame to store transactions\n",
    "def init_ledger():\n",
    "    return pd.DataFrame(columns=columns)\n",
    "\n",
    "# Function to add a transaction\n",
    "def add_transaction(date, description, amount):\n",
    "    global ledger\n",
    "    new_transaction = pd.DataFrame([[date, description, amount]], columns=columns)\n",
    "    ledger = pd.concat([ledger, new_transaction], ignore_index=True)\n",
    "\n",
    "# Function to view the ledger\n",
    "def view_ledger():\n",
    "    display(ledger)\n",
    "\n",
    "# Function to get the current balance\n",
    "def get_balance():\n",
    "    return ledger['Amount'].sum()\n",
    "\n",
    "ledger = init_ledger()\n",
    "\n",
    "# Adding sample transactions\n",
    "add_transaction('2023-11-01', 'Income', 1000)\n",
    "add_transaction('2023-11-02', 'Groceries', -200)\n",
    "add_transaction('2023-11-03', 'Utilities', -100)\n",
    "\n",
    "# Viewing the ledger\n",
    "view_ledger()\n",
    "\n",
    "# Checking the current balance\n",
    "print(\"Current Balance:\", get_balance())"
   ]
  },
  {
   "cell_type": "markdown",
   "id": "6eaf2ccc-e1f7-45eb-8fe0-9af846bfe507",
   "metadata": {},
   "source": [
    "**Mục đích:** Xây dựng một chương trình quản lý sổ giao dịch (ledger) đơn giản bằng `pandas`.  \n",
    "Cụ thể:  \n",
    "- Khởi tạo `DataFrame` rỗng để lưu trữ các giao dịch với các cột: `Date`, `Description`, và `Amount`.  \n",
    "- Định nghĩa các hàm:  \n",
    "  - `init_ledger()`: tạo mới sổ giao dịch trống.  \n",
    "  - `add_transaction()`: thêm giao dịch mới (thu nhập hoặc chi tiêu) vào sổ.  \n",
    "  - `view_ledger()`: hiển thị toàn bộ sổ giao dịch.  \n",
    "  - `get_balance()`: tính tổng số dư hiện tại dựa trên cột `Amount`.  \n",
    "- Cuối cùng, thêm ba giao dịch mẫu (thu nhập, mua sắm, và hóa đơn), hiển thị sổ và in ra số dư hiện có.  \n",
    "Đoạn code minh họa cách quản lý dữ liệu tài chính cơ bản bằng `pandas` theo mô hình CRUD (Create – Read – Update – Delete)."
   ]
  },
  {
   "cell_type": "markdown",
   "id": "5963dc44-1935-4b8c-8eef-8cc21721af2b",
   "metadata": {},
   "source": [
    "## Bìa tập Iris Classifier"
   ]
  },
  {
   "cell_type": "code",
   "execution_count": 32,
   "id": "025e1d2b-0e39-4d4c-82d5-af366f3d3108",
   "metadata": {},
   "outputs": [
    {
     "data": {
      "text/plain": [
       "('iris.data', <http.client.HTTPMessage at 0x16e7339f6f0>)"
      ]
     },
     "execution_count": 32,
     "metadata": {},
     "output_type": "execute_result"
    }
   ],
   "source": [
    "import urllib.request\n",
    "\n",
    "url = \"https://archive.ics.uci.edu/ml/machine-learning-databases/iris/iris.data\"\n",
    "urllib.request.urlretrieve(url, \"iris.data\")"
   ]
  },
  {
   "cell_type": "code",
   "execution_count": 33,
   "id": "5d9fc35e-4e1f-46dd-aec6-78235ebea645",
   "metadata": {},
   "outputs": [
    {
     "name": "stdout",
     "output_type": "stream",
     "text": [
      "5.1,3.5,1.4,0.2,Iris-setosa\n",
      "4.9,3.0,1.4,0.2,Iris-setosa\n",
      "4.7,3.2,1.3,0.2,Iris-setosa\n",
      "4.6,3.1,1.5,0.2,Iris-setosa\n",
      "5.0,3.6,1.4,0.2,Iris-setosa\n",
      "5.4,3.9,1.7,0.4,Iris-setosa\n",
      "4.6,3.4,1.4,0.3,Iris-setosa\n",
      "5.0,3.4,1.5,0.2,Iris-setosa\n",
      "4.4,2.9,1.4,0.2,Iris-setosa\n",
      "4.9,3.1,1.5,0.1,Iris-setosa\n",
      "5.4,3.7,1.5,0.2,Iris-setosa\n",
      "4.8,3.4,1.6,0.2,Iris-setosa\n",
      "4.8,3.0,1.4,0.1,Iris-setosa\n",
      "4.3,3.0,1.1,0.1,Iris-setosa\n",
      "5.8,4.0,1.2,0.2,Iris-setosa\n",
      "5.7,4.4,1.5,0.4,Iris-setosa\n",
      "5.4,3.9,1.3,0.4,Iris-setosa\n",
      "5.1,3.5,1.4,0.3,Iris-set\n"
     ]
    }
   ],
   "source": [
    "with open(\"iris.data\", \"r\") as f:\n",
    "    print(f.read()[:500])  # in 500 ký tự đầu tiên để xem thử nội dung"
   ]
  },
  {
   "cell_type": "code",
   "execution_count": 34,
   "id": "c86d2ce4-6971-4620-a784-6ba91cacef98",
   "metadata": {
    "tags": []
   },
   "outputs": [
    {
     "name": "stdout",
     "output_type": "stream",
     "text": [
      "   sepal-length  sepal-width  petal-length  petal-width        class\n",
      "0           5.1          3.5           1.4          0.2  Iris-setosa\n",
      "1           4.9          3.0           1.4          0.2  Iris-setosa\n",
      "2           4.7          3.2           1.3          0.2  Iris-setosa\n",
      "3           4.6          3.1           1.5          0.2  Iris-setosa\n",
      "4           5.0          3.6           1.4          0.2  Iris-setosa\n",
      "5           5.4          3.9           1.7          0.4  Iris-setosa\n",
      "6           4.6          3.4           1.4          0.3  Iris-setosa\n",
      "7           5.0          3.4           1.5          0.2  Iris-setosa\n",
      "8           4.4          2.9           1.4          0.2  Iris-setosa\n",
      "9           4.9          3.1           1.5          0.1  Iris-setosa\n"
     ]
    }
   ],
   "source": [
    "# Load dataset\n",
    "url = \"https://archive.ics.uci.edu/ml/machine-learning-databases/iris/iris.data\"\n",
    "names = ['sepal-length', 'sepal-width', 'petal-length', 'petal-width', 'class']\n",
    "df = pd.read_csv(url, names=names)\n",
    "print(df.head(10))"
   ]
  },
  {
   "cell_type": "markdown",
   "id": "949a2809-09cb-4f37-a79a-a0e0dc83e7f0",
   "metadata": {},
   "source": [
    "**Mục đích:** Tải bộ dữ liệu *Iris* trực tiếp từ kho dữ liệu của UCI Machine Learning Repository và đọc vào `DataFrame` bằng `pandas`.  \n",
    "Các bước thực hiện:  \n",
    "- Gán đường dẫn dữ liệu `iris.data` vào biến `url`.  \n",
    "- Đặt tên cho các cột gồm: `sepal-length`, `sepal-width`, `petal-length`, `petal-width`, và `class`.  \n",
    "- Dùng `pd.read_csv()` để đọc dữ liệu và gán tên cột tương ứng.  \n",
    "- Cuối cùng, in ra 10 dòng đầu tiên bằng `df.head(10)` để xem cấu trúc dữ liệu."
   ]
  },
  {
   "cell_type": "code",
   "execution_count": 35,
   "id": "a6feafa8-2a0e-4588-acb1-523ce2cd446c",
   "metadata": {},
   "outputs": [
    {
     "data": {
      "text/html": [
       "<div>\n",
       "<style scoped>\n",
       "    .dataframe tbody tr th:only-of-type {\n",
       "        vertical-align: middle;\n",
       "    }\n",
       "\n",
       "    .dataframe tbody tr th {\n",
       "        vertical-align: top;\n",
       "    }\n",
       "\n",
       "    .dataframe thead th {\n",
       "        text-align: right;\n",
       "    }\n",
       "</style>\n",
       "<table border=\"1\" class=\"dataframe\">\n",
       "  <thead>\n",
       "    <tr style=\"text-align: right;\">\n",
       "      <th></th>\n",
       "      <th>sepal-length</th>\n",
       "      <th>sepal-width</th>\n",
       "      <th>petal-length</th>\n",
       "      <th>petal-width</th>\n",
       "      <th>class</th>\n",
       "    </tr>\n",
       "  </thead>\n",
       "  <tbody>\n",
       "    <tr>\n",
       "      <th>140</th>\n",
       "      <td>6.7</td>\n",
       "      <td>3.1</td>\n",
       "      <td>5.6</td>\n",
       "      <td>2.4</td>\n",
       "      <td>Iris-virginica</td>\n",
       "    </tr>\n",
       "    <tr>\n",
       "      <th>141</th>\n",
       "      <td>6.9</td>\n",
       "      <td>3.1</td>\n",
       "      <td>5.1</td>\n",
       "      <td>2.3</td>\n",
       "      <td>Iris-virginica</td>\n",
       "    </tr>\n",
       "    <tr>\n",
       "      <th>142</th>\n",
       "      <td>5.8</td>\n",
       "      <td>2.7</td>\n",
       "      <td>5.1</td>\n",
       "      <td>1.9</td>\n",
       "      <td>Iris-virginica</td>\n",
       "    </tr>\n",
       "    <tr>\n",
       "      <th>143</th>\n",
       "      <td>6.8</td>\n",
       "      <td>3.2</td>\n",
       "      <td>5.9</td>\n",
       "      <td>2.3</td>\n",
       "      <td>Iris-virginica</td>\n",
       "    </tr>\n",
       "    <tr>\n",
       "      <th>144</th>\n",
       "      <td>6.7</td>\n",
       "      <td>3.3</td>\n",
       "      <td>5.7</td>\n",
       "      <td>2.5</td>\n",
       "      <td>Iris-virginica</td>\n",
       "    </tr>\n",
       "    <tr>\n",
       "      <th>145</th>\n",
       "      <td>6.7</td>\n",
       "      <td>3.0</td>\n",
       "      <td>5.2</td>\n",
       "      <td>2.3</td>\n",
       "      <td>Iris-virginica</td>\n",
       "    </tr>\n",
       "    <tr>\n",
       "      <th>146</th>\n",
       "      <td>6.3</td>\n",
       "      <td>2.5</td>\n",
       "      <td>5.0</td>\n",
       "      <td>1.9</td>\n",
       "      <td>Iris-virginica</td>\n",
       "    </tr>\n",
       "    <tr>\n",
       "      <th>147</th>\n",
       "      <td>6.5</td>\n",
       "      <td>3.0</td>\n",
       "      <td>5.2</td>\n",
       "      <td>2.0</td>\n",
       "      <td>Iris-virginica</td>\n",
       "    </tr>\n",
       "    <tr>\n",
       "      <th>148</th>\n",
       "      <td>6.2</td>\n",
       "      <td>3.4</td>\n",
       "      <td>5.4</td>\n",
       "      <td>2.3</td>\n",
       "      <td>Iris-virginica</td>\n",
       "    </tr>\n",
       "    <tr>\n",
       "      <th>149</th>\n",
       "      <td>5.9</td>\n",
       "      <td>3.0</td>\n",
       "      <td>5.1</td>\n",
       "      <td>1.8</td>\n",
       "      <td>Iris-virginica</td>\n",
       "    </tr>\n",
       "  </tbody>\n",
       "</table>\n",
       "</div>"
      ],
      "text/plain": [
       "     sepal-length  sepal-width  petal-length  petal-width           class\n",
       "140           6.7          3.1           5.6          2.4  Iris-virginica\n",
       "141           6.9          3.1           5.1          2.3  Iris-virginica\n",
       "142           5.8          2.7           5.1          1.9  Iris-virginica\n",
       "143           6.8          3.2           5.9          2.3  Iris-virginica\n",
       "144           6.7          3.3           5.7          2.5  Iris-virginica\n",
       "145           6.7          3.0           5.2          2.3  Iris-virginica\n",
       "146           6.3          2.5           5.0          1.9  Iris-virginica\n",
       "147           6.5          3.0           5.2          2.0  Iris-virginica\n",
       "148           6.2          3.4           5.4          2.3  Iris-virginica\n",
       "149           5.9          3.0           5.1          1.8  Iris-virginica"
      ]
     },
     "execution_count": 35,
     "metadata": {},
     "output_type": "execute_result"
    }
   ],
   "source": [
    "df.tail(10)"
   ]
  },
  {
   "cell_type": "code",
   "execution_count": 36,
   "id": "7c68e89c-b52c-4eeb-adb8-263df8706c3a",
   "metadata": {},
   "outputs": [
    {
     "data": {
      "text/html": [
       "<div>\n",
       "<style scoped>\n",
       "    .dataframe tbody tr th:only-of-type {\n",
       "        vertical-align: middle;\n",
       "    }\n",
       "\n",
       "    .dataframe tbody tr th {\n",
       "        vertical-align: top;\n",
       "    }\n",
       "\n",
       "    .dataframe thead th {\n",
       "        text-align: right;\n",
       "    }\n",
       "</style>\n",
       "<table border=\"1\" class=\"dataframe\">\n",
       "  <thead>\n",
       "    <tr style=\"text-align: right;\">\n",
       "      <th></th>\n",
       "      <th>sepal-length</th>\n",
       "      <th>sepal-width</th>\n",
       "      <th>petal-length</th>\n",
       "      <th>petal-width</th>\n",
       "    </tr>\n",
       "  </thead>\n",
       "  <tbody>\n",
       "    <tr>\n",
       "      <th>count</th>\n",
       "      <td>150.000000</td>\n",
       "      <td>150.000000</td>\n",
       "      <td>150.000000</td>\n",
       "      <td>150.000000</td>\n",
       "    </tr>\n",
       "    <tr>\n",
       "      <th>mean</th>\n",
       "      <td>5.843333</td>\n",
       "      <td>3.054000</td>\n",
       "      <td>3.758667</td>\n",
       "      <td>1.198667</td>\n",
       "    </tr>\n",
       "    <tr>\n",
       "      <th>std</th>\n",
       "      <td>0.828066</td>\n",
       "      <td>0.433594</td>\n",
       "      <td>1.764420</td>\n",
       "      <td>0.763161</td>\n",
       "    </tr>\n",
       "    <tr>\n",
       "      <th>min</th>\n",
       "      <td>4.300000</td>\n",
       "      <td>2.000000</td>\n",
       "      <td>1.000000</td>\n",
       "      <td>0.100000</td>\n",
       "    </tr>\n",
       "    <tr>\n",
       "      <th>25%</th>\n",
       "      <td>5.100000</td>\n",
       "      <td>2.800000</td>\n",
       "      <td>1.600000</td>\n",
       "      <td>0.300000</td>\n",
       "    </tr>\n",
       "    <tr>\n",
       "      <th>50%</th>\n",
       "      <td>5.800000</td>\n",
       "      <td>3.000000</td>\n",
       "      <td>4.350000</td>\n",
       "      <td>1.300000</td>\n",
       "    </tr>\n",
       "    <tr>\n",
       "      <th>75%</th>\n",
       "      <td>6.400000</td>\n",
       "      <td>3.300000</td>\n",
       "      <td>5.100000</td>\n",
       "      <td>1.800000</td>\n",
       "    </tr>\n",
       "    <tr>\n",
       "      <th>max</th>\n",
       "      <td>7.900000</td>\n",
       "      <td>4.400000</td>\n",
       "      <td>6.900000</td>\n",
       "      <td>2.500000</td>\n",
       "    </tr>\n",
       "  </tbody>\n",
       "</table>\n",
       "</div>"
      ],
      "text/plain": [
       "       sepal-length  sepal-width  petal-length  petal-width\n",
       "count    150.000000   150.000000    150.000000   150.000000\n",
       "mean       5.843333     3.054000      3.758667     1.198667\n",
       "std        0.828066     0.433594      1.764420     0.763161\n",
       "min        4.300000     2.000000      1.000000     0.100000\n",
       "25%        5.100000     2.800000      1.600000     0.300000\n",
       "50%        5.800000     3.000000      4.350000     1.300000\n",
       "75%        6.400000     3.300000      5.100000     1.800000\n",
       "max        7.900000     4.400000      6.900000     2.500000"
      ]
     },
     "execution_count": 36,
     "metadata": {},
     "output_type": "execute_result"
    }
   ],
   "source": [
    "df.describe() # Mô tả các thông số thống kê"
   ]
  },
  {
   "cell_type": "code",
   "execution_count": 45,
   "id": "7088bfc2-2050-47a5-92c7-9488dfeec873",
   "metadata": {},
   "outputs": [
    {
     "name": "stdout",
     "output_type": "stream",
     "text": [
      "<class 'pandas.core.frame.DataFrame'>\n",
      "RangeIndex: 150 entries, 0 to 149\n",
      "Data columns (total 5 columns):\n",
      " #   Column        Non-Null Count  Dtype  \n",
      "---  ------        --------------  -----  \n",
      " 0   sepal-length  150 non-null    float64\n",
      " 1   sepal-width   150 non-null    float64\n",
      " 2   petal-length  150 non-null    float64\n",
      " 3   petal-width   150 non-null    float64\n",
      " 4   class         150 non-null    object \n",
      "dtypes: float64(4), object(1)\n",
      "memory usage: 6.0+ KB\n"
     ]
    }
   ],
   "source": [
    "df.info() # thông tin của bộ dữ liệu"
   ]
  },
  {
   "cell_type": "code",
   "execution_count": 38,
   "id": "23ed6f88-0bfe-4750-84a6-c01f857207f8",
   "metadata": {},
   "outputs": [
    {
     "data": {
      "text/plain": [
       "(150, 5)"
      ]
     },
     "execution_count": 38,
     "metadata": {},
     "output_type": "execute_result"
    }
   ],
   "source": [
    "df.shape"
   ]
  },
  {
   "cell_type": "code",
   "execution_count": 39,
   "id": "7be5fa01-1c00-4622-8be4-989c5a28c639",
   "metadata": {},
   "outputs": [
    {
     "data": {
      "text/plain": [
       "class\n",
       "Iris-setosa        50\n",
       "Iris-versicolor    50\n",
       "Iris-virginica     50\n",
       "dtype: int64"
      ]
     },
     "execution_count": 39,
     "metadata": {},
     "output_type": "execute_result"
    }
   ],
   "source": [
    "df.groupby('class').size()"
   ]
  },
  {
   "cell_type": "code",
   "execution_count": 40,
   "id": "c16079bc-3388-4667-9ebb-8ad17d28ff8a",
   "metadata": {
    "tags": []
   },
   "outputs": [
    {
     "data": {
      "text/plain": [
       "(array(['Iris-setosa', 'Iris-versicolor', 'Iris-virginica'], dtype=object),\n",
       " array([50, 50, 50]))"
      ]
     },
     "execution_count": 40,
     "metadata": {},
     "output_type": "execute_result"
    }
   ],
   "source": [
    "np.unique(df['class'], return_counts=True)"
   ]
  },
  {
   "cell_type": "markdown",
   "id": "b1f86db7-29fc-448c-a8c8-5de0b8b58521",
   "metadata": {},
   "source": [
    "**Mục đích:** Đếm số lượng mẫu thuộc từng lớp trong cột `class` của bộ dữ liệu *Iris*.  \n",
    "Cụ thể, hàm `np.unique(..., return_counts=True)` trả về hai mảng:  \n",
    "- Mảng thứ nhất là các giá trị duy nhất trong cột `class` (tên các loài hoa).  \n",
    "- Mảng thứ hai là số lượng mẫu tương ứng của từng loài.  \n",
    "Điều này giúp kiểm tra sự phân bố dữ liệu giữa các lớp trong tập dữ liệu."
   ]
  },
  {
   "cell_type": "code",
   "execution_count": null,
   "id": "25823746-6583-4e0d-973f-64b1d98b8e19",
   "metadata": {},
   "outputs": [
    {
     "data": {
      "image/png": "[encoded data removed]",
      "text/plain": [
       "<Figure size 1000x800 with 4 Axes>"
      ]
     },
     "metadata": {},
     "output_type": "display_data"
    }
   ],
   "source": [
    "plt.rcParams[\"figure.figsize\"] = (10,8)\n",
    "df.plot(kind='box', subplots=True, layout=(2,2), sharex=False, sharey=False)\n",
    "plt.show()"
   ]
  },
  {
   "cell_type": "markdown",
   "id": "7f200889-7fce-4dbc-9a54-cf36e8d2deaf",
   "metadata": {},
   "source": [
    "**Mục đích:** Trực quan hóa dữ liệu *Iris* bằng biểu đồ hộp (boxplot) để quan sát phân bố và phát hiện giá trị ngoại lai (outliers) trong từng biến định lượng.  \n",
    "Cụ thể:  \n",
    "- `plt.rcParams[\"figure.figsize\"] = (10,8)` đặt kích thước toàn cục của biểu đồ là 10x8 inch.  \n",
    "- `df.plot(kind='box', subplots=True, layout=(2,2), sharex=False, sharey=False)` vẽ các boxplot riêng biệt cho từng cột, sắp xếp theo lưới 2x2 và không chia sẻ trục.  \n",
    "- `plt.show()` hiển thị toàn bộ biểu đồ."
   ]
  },
  {
   "cell_type": "code",
   "execution_count": 42,
   "id": "e9ea44f0-1a80-419a-9717-aabfa9b8d2ba",
   "metadata": {},
   "outputs": [
    {
     "data": {
      "image/png": "[encoded data removed]",
      "text/plain": [
       "<Figure size 1000x800 with 4 Axes>"
      ]
     },
     "metadata": {},
     "output_type": "display_data"
    }
   ],
   "source": [
    "df.hist()\n",
    "plt.show()"
   ]
  },
  {
   "cell_type": "markdown",
   "id": "0be394a8-ce1c-484f-b443-5c7223a14744",
   "metadata": {},
   "source": [
    "**Mục đích:** Vẽ biểu đồ tần suất (histogram) cho từng biến số trong bộ dữ liệu *Iris* để quan sát phân bố giá trị của chúng.  \n",
    "Cụ thể:  \n",
    "- `df.hist()` tự động tạo các biểu đồ histogram cho tất cả các cột số trong `DataFrame`.  \n",
    "- `plt.show()` hiển thị toàn bộ các biểu đồ này, giúp nhận diện xu hướng, độ lệch và phân phối của dữ liệu."
   ]
  },
  {
   "cell_type": "code",
   "execution_count": 43,
   "id": "fda2ce7c-0472-40ad-a0c5-54f6f62761f2",
   "metadata": {
    "tags": []
   },
   "outputs": [
    {
     "data": {
      "image/png": "[encoded data removed]",
      "text/plain": [
       "<Figure size 1000x800 with 16 Axes>"
      ]
     },
     "metadata": {},
     "output_type": "display_data"
    }
   ],
   "source": [
    "from pandas.plotting import scatter_matrix\n",
    "scatter_matrix(df)\n",
    "plt.show()"
   ]
  },
  {
   "cell_type": "markdown",
   "id": "69812c22-6960-47ef-8f32-de12d9b97f56",
   "metadata": {},
   "source": [
    "**Mục đích:** Tạo ma trận biểu đồ phân tán (scatter matrix) cho bộ dữ liệu *Iris* nhằm quan sát mối quan hệ giữa các cặp biến định lượng.  \n",
    "Cụ thể:  \n",
    "- `scatter_matrix(df)` vẽ tập hợp các biểu đồ phân tán giữa mọi cặp cột số trong `DataFrame`, đồng thời hiển thị histogram trên đường chéo chính.  \n",
    "- `plt.show()` dùng để hiển thị toàn bộ ma trận biểu đồ, giúp nhận diện tương quan và xu hướng tuyến tính giữa các đặc trưng của hoa.\n",
    "\n",
    "\n",
    "\n",
    "\n",
    "\n",
    "\n"
   ]
  },
  {
   "cell_type": "markdown",
   "id": "3a28b28a-a234-43e9-a721-b68820abc140",
   "metadata": {},
   "source": [
    "## Kết thúc buổi 3"
   ]
  }
 ],
 "metadata": {
  "kernelspec": {
   "display_name": "Python 3 (ipykernel)",
   "language": "python",
   "name": "python3"
  },
  "language_info": {
   "codemirror_mode": {
    "name": "ipython",
    "version": 3
   },
   "file_extension": ".py",
   "mimetype": "text/x-python",
   "name": "python",
   "nbconvert_exporter": "python",
   "pygments_lexer": "ipython3",
   "version": "3.13.5"
  }
 },
 "nbformat": 4,
 "nbformat_minor": 5
}
